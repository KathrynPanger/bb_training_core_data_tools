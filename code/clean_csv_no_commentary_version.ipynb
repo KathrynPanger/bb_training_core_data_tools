{
 "cells": [
  {
   "cell_type": "code",
   "execution_count": 2,
   "id": "initial_id",
   "metadata": {
    "collapsed": true,
    "ExecuteTime": {
     "end_time": "2024-04-01T01:05:54.029542Z",
     "start_time": "2024-04-01T01:05:53.614699Z"
    }
   },
   "outputs": [],
   "source": [
    "import pandas as pd\n",
    "from pandas._libs.internals import defaultdict\n",
    "from unidecode import unidecode\n",
    "from collections.abc import Callable\n",
    "import re\n",
    "from typing import Optional, Any\n",
    "import uuid\n",
    "import random\n",
    "from numbers import Number"
   ]
  },
  {
   "cell_type": "markdown",
   "source": [
    "<h1>LOAD CSV</h1>"
   ],
   "metadata": {
    "collapsed": false
   },
   "id": "6398ecc163975951"
  },
  {
   "cell_type": "code",
   "execution_count": 3,
   "outputs": [
    {
     "data": {
      "text/plain": "                                           Owner  . .   \\\n0    1 SOUTH MAIN LLC - WILMONT HOTEL LIMITED PARTN...   \n1                              100 SOUTH MAIN PARTNERS   \n2                                      1030 POPLAR LLC   \n3                         109 SOUTH SECOND PARTNERSHIP   \n4                                    115 UNION AVE LLC   \n..                                                 ...   \n522                     WRIGHT MEDICAL TECHNOLOGY, INC   \n523                     WRIGHT MEDICAL TECHNOLOGY, INC   \n524                     WRIGHT MEDICAL TECHNOLOGY, INC   \n525                     WRIGHT MEDICAL TECHNOLOGY, INC   \n526                                      WS HCHEM, LLC   \n\n                Location     PILOT (Parcel No)      \\\n0                 79 MADISON        ICC03900000000   \n1                   100 MAIN        ICC07260000000   \n2                1030 POPLAR        ICC07900000000   \n3                 109 SECOND        ICC07380000000   \n4                  115 UNION        ICC07330000000   \n..                       ...                   ...   \n522              1023 CHERRY        IDB1590A000000   \n523      0 MEMPHIS-ARLINGTON        IDB0000A000140   \n524  11576 MEMPHIS-ARLINGTON        IDB0000A00015A   \n525  11576 MEMPHIS ARLINGTON        IDB0000A00020A   \n526             0 WINCHESTER        IDB0000C000160   \n\n                          Underlying Parcel Number      Begin Date  \\\n0    00203800000020, 00203800000030, 00203800000060...  08/02/2000   \n1                       0020530B000010, 0020530B000030  12/23/2008   \n2                                       0200900000007C  06/15/2021   \n3                                         205300000130  04/07/2011   \n4                                         205300000020  03/29/2011   \n..                                                 ...         ...   \n522                                     0015900000000D  12/31/2016   \n523                                     A0141L0A000040  12/31/2014   \n524                                     3000150000000D  12/31/2014   \n525                                     3000160000000D  12/31/2015   \n526                                     C024400A006820  06/01/2016   \n\n    End Date     Assmt Taxes     PILOT Contract Amt      \\\n0     08/02/2024        $240,731               $180,548   \n1     12/23/2023        $112,054                 $3,070   \n2     06/15/2034          $6,722                 $6,722   \n3     04/07/2024         $79,863                 $3,486   \n4     03/29/2021         $29,104                $29,104   \n..           ...             ...                    ...   \n522   12/31/2031          $5,522                   $100   \n523   12/31/2024         $62,901                $62,901   \n524   12/31/2024         $12,884                $12,884   \n525   12/31/2025          $1,240                   $100   \n526   06/01/2023        $129,117               $129,117   \n\n    PILOT Debt Service Amt     Difference  \n0                           $0   -$60,183  \n1                      $27,246   -$81,738  \n2                           $0         $0  \n3                      $19,094   -$57,283  \n4                           $0         $0  \n..                         ...        ...  \n522                     $1,381    -$4,042  \n523                         $0         $0  \n524                         $0         $0  \n525                       $310      -$830  \n526                         $0         $0  \n\n[527 rows x 10 columns]",
      "text/html": "<div>\n<style scoped>\n    .dataframe tbody tr th:only-of-type {\n        vertical-align: middle;\n    }\n\n    .dataframe tbody tr th {\n        vertical-align: top;\n    }\n\n    .dataframe thead th {\n        text-align: right;\n    }\n</style>\n<table border=\"1\" class=\"dataframe\">\n  <thead>\n    <tr style=\"text-align: right;\">\n      <th></th>\n      <th>Owner  . .</th>\n      <th>Location</th>\n      <th>PILOT (Parcel No)</th>\n      <th>Underlying Parcel Number</th>\n      <th>Begin Date</th>\n      <th>End Date</th>\n      <th>Assmt Taxes</th>\n      <th>PILOT Contract Amt</th>\n      <th>PILOT Debt Service Amt</th>\n      <th>Difference</th>\n    </tr>\n  </thead>\n  <tbody>\n    <tr>\n      <th>0</th>\n      <td>1 SOUTH MAIN LLC - WILMONT HOTEL LIMITED PARTN...</td>\n      <td>79 MADISON</td>\n      <td>ICC03900000000</td>\n      <td>00203800000020, 00203800000030, 00203800000060...</td>\n      <td>08/02/2000</td>\n      <td>08/02/2024</td>\n      <td>$240,731</td>\n      <td>$180,548</td>\n      <td>$0</td>\n      <td>-$60,183</td>\n    </tr>\n    <tr>\n      <th>1</th>\n      <td>100 SOUTH MAIN PARTNERS</td>\n      <td>100 MAIN</td>\n      <td>ICC07260000000</td>\n      <td>0020530B000010, 0020530B000030</td>\n      <td>12/23/2008</td>\n      <td>12/23/2023</td>\n      <td>$112,054</td>\n      <td>$3,070</td>\n      <td>$27,246</td>\n      <td>-$81,738</td>\n    </tr>\n    <tr>\n      <th>2</th>\n      <td>1030 POPLAR LLC</td>\n      <td>1030 POPLAR</td>\n      <td>ICC07900000000</td>\n      <td>0200900000007C</td>\n      <td>06/15/2021</td>\n      <td>06/15/2034</td>\n      <td>$6,722</td>\n      <td>$6,722</td>\n      <td>$0</td>\n      <td>$0</td>\n    </tr>\n    <tr>\n      <th>3</th>\n      <td>109 SOUTH SECOND PARTNERSHIP</td>\n      <td>109 SECOND</td>\n      <td>ICC07380000000</td>\n      <td>205300000130</td>\n      <td>04/07/2011</td>\n      <td>04/07/2024</td>\n      <td>$79,863</td>\n      <td>$3,486</td>\n      <td>$19,094</td>\n      <td>-$57,283</td>\n    </tr>\n    <tr>\n      <th>4</th>\n      <td>115 UNION AVE LLC</td>\n      <td>115 UNION</td>\n      <td>ICC07330000000</td>\n      <td>205300000020</td>\n      <td>03/29/2011</td>\n      <td>03/29/2021</td>\n      <td>$29,104</td>\n      <td>$29,104</td>\n      <td>$0</td>\n      <td>$0</td>\n    </tr>\n    <tr>\n      <th>...</th>\n      <td>...</td>\n      <td>...</td>\n      <td>...</td>\n      <td>...</td>\n      <td>...</td>\n      <td>...</td>\n      <td>...</td>\n      <td>...</td>\n      <td>...</td>\n      <td>...</td>\n    </tr>\n    <tr>\n      <th>522</th>\n      <td>WRIGHT MEDICAL TECHNOLOGY, INC</td>\n      <td>1023 CHERRY</td>\n      <td>IDB1590A000000</td>\n      <td>0015900000000D</td>\n      <td>12/31/2016</td>\n      <td>12/31/2031</td>\n      <td>$5,522</td>\n      <td>$100</td>\n      <td>$1,381</td>\n      <td>-$4,042</td>\n    </tr>\n    <tr>\n      <th>523</th>\n      <td>WRIGHT MEDICAL TECHNOLOGY, INC</td>\n      <td>0 MEMPHIS-ARLINGTON</td>\n      <td>IDB0000A000140</td>\n      <td>A0141L0A000040</td>\n      <td>12/31/2014</td>\n      <td>12/31/2024</td>\n      <td>$62,901</td>\n      <td>$62,901</td>\n      <td>$0</td>\n      <td>$0</td>\n    </tr>\n    <tr>\n      <th>524</th>\n      <td>WRIGHT MEDICAL TECHNOLOGY, INC</td>\n      <td>11576 MEMPHIS-ARLINGTON</td>\n      <td>IDB0000A00015A</td>\n      <td>3000150000000D</td>\n      <td>12/31/2014</td>\n      <td>12/31/2024</td>\n      <td>$12,884</td>\n      <td>$12,884</td>\n      <td>$0</td>\n      <td>$0</td>\n    </tr>\n    <tr>\n      <th>525</th>\n      <td>WRIGHT MEDICAL TECHNOLOGY, INC</td>\n      <td>11576 MEMPHIS ARLINGTON</td>\n      <td>IDB0000A00020A</td>\n      <td>3000160000000D</td>\n      <td>12/31/2015</td>\n      <td>12/31/2025</td>\n      <td>$1,240</td>\n      <td>$100</td>\n      <td>$310</td>\n      <td>-$830</td>\n    </tr>\n    <tr>\n      <th>526</th>\n      <td>WS HCHEM, LLC</td>\n      <td>0 WINCHESTER</td>\n      <td>IDB0000C000160</td>\n      <td>C024400A006820</td>\n      <td>06/01/2016</td>\n      <td>06/01/2023</td>\n      <td>$129,117</td>\n      <td>$129,117</td>\n      <td>$0</td>\n      <td>$0</td>\n    </tr>\n  </tbody>\n</table>\n<p>527 rows × 10 columns</p>\n</div>"
     },
     "execution_count": 3,
     "metadata": {},
     "output_type": "execute_result"
    }
   ],
   "source": [
    "# load a dataframe\n",
    "infile_path = \"../data/raw/shelby_county_properties_municipality_breakdown - s2_in_lieu_contracts_by_owner.csv\"\n",
    "df = pd.read_csv(infile_path)\n",
    "df"
   ],
   "metadata": {
    "collapsed": false,
    "ExecuteTime": {
     "end_time": "2024-04-01T01:05:54.029929Z",
     "start_time": "2024-04-01T01:05:53.891886Z"
    }
   },
   "id": "bc311fdb9d349b11"
  },
  {
   "cell_type": "markdown",
   "source": [
    "<h1>HEADERS</h3>"
   ],
   "metadata": {
    "collapsed": false
   },
   "id": "6df5ae6a5fbecf12"
  },
  {
   "cell_type": "code",
   "execution_count": 4,
   "outputs": [
    {
     "data": {
      "text/plain": "Index(['    Owner  . . ', '    Location    ', '    PILOT (Parcel No)    ',\n       '    Underlying Parcel Number    ', '    Begin Date',\n       '    End Date    ', '    Assmt Taxes    ', '    PILOT Contract Amt    ',\n       '    PILOT Debt Service Amt    ', '    Difference'],\n      dtype='object')"
     },
     "execution_count": 4,
     "metadata": {},
     "output_type": "execute_result"
    }
   ],
   "source": [
    "# Check the headers\n",
    "df.columns"
   ],
   "metadata": {
    "collapsed": false,
    "ExecuteTime": {
     "end_time": "2024-04-01T01:05:54.030012Z",
     "start_time": "2024-04-01T01:05:53.903444Z"
    }
   },
   "id": "d0d339bb8e62a3b1"
  },
  {
   "cell_type": "code",
   "execution_count": 5,
   "outputs": [],
   "source": [
    "#Define cleaning functions for Headers\n",
    "\n",
    "# Remove special characters when dealing with words\n",
    "# transforms removed characters into spaces, removes . and -\n",
    "def remove_special_for_words(entry: str | Number):\n",
    "    return re.sub(r\"[^a-zA-Z0-9]+\", ' ', str(entry))\n",
    "\n",
    "# Remove leading and trailing spaces\n",
    "def truncate(entry: str | Number):\n",
    "    return str(entry).strip()\n",
    "\n",
    "# Replace spaces with underscores\n",
    "def snake_case(entry: str | Number):\n",
    "    return str(entry).replace(\" \", \"_\")\n",
    "\n",
    "# Make all letters lowercase\n",
    "def lower_case(entry: str | Number):\n",
    "    return str(entry).lower()"
   ],
   "metadata": {
    "collapsed": false,
    "ExecuteTime": {
     "end_time": "2024-04-01T01:05:54.030052Z",
     "start_time": "2024-04-01T01:05:53.907224Z"
    }
   },
   "id": "6e188ed5be2b262d"
  },
  {
   "cell_type": "code",
   "execution_count": 6,
   "outputs": [],
   "source": [
    "#Define applicaiton function for headers\n",
    "\n",
    "# takes in a list of functions and applies those functions to all headers of a pandas dataframe\n",
    "def clean_headers(df: pd.DataFrame, cleaning_functions_list:list[Callable]) -> pd.DataFrame:\n",
    "    column_name_map = {item: item for item in df.columns}\n",
    "    for item in column_name_map:\n",
    "        for function in cleaning_functions_list:\n",
    "            column_name_map[item] = function(column_name_map[item])\n",
    "    df.rename(columns=column_name_map, inplace=True)\n",
    "    return df"
   ],
   "metadata": {
    "collapsed": false,
    "ExecuteTime": {
     "end_time": "2024-04-01T01:05:54.030097Z",
     "start_time": "2024-04-01T01:05:53.909703Z"
    }
   },
   "id": "4ba74678fed7e1fe"
  },
  {
   "cell_type": "code",
   "execution_count": 7,
   "outputs": [
    {
     "name": "stdout",
     "output_type": "stream",
     "text": [
      "Index(['owner', 'location', 'pilot_parcel_no', 'underlying_parcel_number',\n",
      "       'begin_date', 'end_date', 'assmt_taxes', 'pilot_contract_amt',\n",
      "       'pilot_debt_service_amt', 'difference'],\n",
      "      dtype='object')\n"
     ]
    },
    {
     "data": {
      "text/plain": "                                                 owner  \\\n0    1 SOUTH MAIN LLC - WILMONT HOTEL LIMITED PARTN...   \n1                              100 SOUTH MAIN PARTNERS   \n2                                      1030 POPLAR LLC   \n3                         109 SOUTH SECOND PARTNERSHIP   \n4                                    115 UNION AVE LLC   \n..                                                 ...   \n522                     WRIGHT MEDICAL TECHNOLOGY, INC   \n523                     WRIGHT MEDICAL TECHNOLOGY, INC   \n524                     WRIGHT MEDICAL TECHNOLOGY, INC   \n525                     WRIGHT MEDICAL TECHNOLOGY, INC   \n526                                      WS HCHEM, LLC   \n\n                    location pilot_parcel_no  \\\n0                 79 MADISON  ICC03900000000   \n1                   100 MAIN  ICC07260000000   \n2                1030 POPLAR  ICC07900000000   \n3                 109 SECOND  ICC07380000000   \n4                  115 UNION  ICC07330000000   \n..                       ...             ...   \n522              1023 CHERRY  IDB1590A000000   \n523      0 MEMPHIS-ARLINGTON  IDB0000A000140   \n524  11576 MEMPHIS-ARLINGTON  IDB0000A00015A   \n525  11576 MEMPHIS ARLINGTON  IDB0000A00020A   \n526             0 WINCHESTER  IDB0000C000160   \n\n                              underlying_parcel_number  begin_date  \\\n0    00203800000020, 00203800000030, 00203800000060...  08/02/2000   \n1                       0020530B000010, 0020530B000030  12/23/2008   \n2                                       0200900000007C  06/15/2021   \n3                                         205300000130  04/07/2011   \n4                                         205300000020  03/29/2011   \n..                                                 ...         ...   \n522                                     0015900000000D  12/31/2016   \n523                                     A0141L0A000040  12/31/2014   \n524                                     3000150000000D  12/31/2014   \n525                                     3000160000000D  12/31/2015   \n526                                     C024400A006820  06/01/2016   \n\n       end_date assmt_taxes pilot_contract_amt pilot_debt_service_amt  \\\n0    08/02/2024    $240,731           $180,548                     $0   \n1    12/23/2023    $112,054             $3,070                $27,246   \n2    06/15/2034      $6,722             $6,722                     $0   \n3    04/07/2024     $79,863             $3,486                $19,094   \n4    03/29/2021     $29,104            $29,104                     $0   \n..          ...         ...                ...                    ...   \n522  12/31/2031      $5,522               $100                 $1,381   \n523  12/31/2024     $62,901            $62,901                     $0   \n524  12/31/2024     $12,884            $12,884                     $0   \n525  12/31/2025      $1,240               $100                   $310   \n526  06/01/2023    $129,117           $129,117                     $0   \n\n    difference  \n0     -$60,183  \n1     -$81,738  \n2           $0  \n3     -$57,283  \n4           $0  \n..         ...  \n522    -$4,042  \n523         $0  \n524         $0  \n525      -$830  \n526         $0  \n\n[527 rows x 10 columns]",
      "text/html": "<div>\n<style scoped>\n    .dataframe tbody tr th:only-of-type {\n        vertical-align: middle;\n    }\n\n    .dataframe tbody tr th {\n        vertical-align: top;\n    }\n\n    .dataframe thead th {\n        text-align: right;\n    }\n</style>\n<table border=\"1\" class=\"dataframe\">\n  <thead>\n    <tr style=\"text-align: right;\">\n      <th></th>\n      <th>owner</th>\n      <th>location</th>\n      <th>pilot_parcel_no</th>\n      <th>underlying_parcel_number</th>\n      <th>begin_date</th>\n      <th>end_date</th>\n      <th>assmt_taxes</th>\n      <th>pilot_contract_amt</th>\n      <th>pilot_debt_service_amt</th>\n      <th>difference</th>\n    </tr>\n  </thead>\n  <tbody>\n    <tr>\n      <th>0</th>\n      <td>1 SOUTH MAIN LLC - WILMONT HOTEL LIMITED PARTN...</td>\n      <td>79 MADISON</td>\n      <td>ICC03900000000</td>\n      <td>00203800000020, 00203800000030, 00203800000060...</td>\n      <td>08/02/2000</td>\n      <td>08/02/2024</td>\n      <td>$240,731</td>\n      <td>$180,548</td>\n      <td>$0</td>\n      <td>-$60,183</td>\n    </tr>\n    <tr>\n      <th>1</th>\n      <td>100 SOUTH MAIN PARTNERS</td>\n      <td>100 MAIN</td>\n      <td>ICC07260000000</td>\n      <td>0020530B000010, 0020530B000030</td>\n      <td>12/23/2008</td>\n      <td>12/23/2023</td>\n      <td>$112,054</td>\n      <td>$3,070</td>\n      <td>$27,246</td>\n      <td>-$81,738</td>\n    </tr>\n    <tr>\n      <th>2</th>\n      <td>1030 POPLAR LLC</td>\n      <td>1030 POPLAR</td>\n      <td>ICC07900000000</td>\n      <td>0200900000007C</td>\n      <td>06/15/2021</td>\n      <td>06/15/2034</td>\n      <td>$6,722</td>\n      <td>$6,722</td>\n      <td>$0</td>\n      <td>$0</td>\n    </tr>\n    <tr>\n      <th>3</th>\n      <td>109 SOUTH SECOND PARTNERSHIP</td>\n      <td>109 SECOND</td>\n      <td>ICC07380000000</td>\n      <td>205300000130</td>\n      <td>04/07/2011</td>\n      <td>04/07/2024</td>\n      <td>$79,863</td>\n      <td>$3,486</td>\n      <td>$19,094</td>\n      <td>-$57,283</td>\n    </tr>\n    <tr>\n      <th>4</th>\n      <td>115 UNION AVE LLC</td>\n      <td>115 UNION</td>\n      <td>ICC07330000000</td>\n      <td>205300000020</td>\n      <td>03/29/2011</td>\n      <td>03/29/2021</td>\n      <td>$29,104</td>\n      <td>$29,104</td>\n      <td>$0</td>\n      <td>$0</td>\n    </tr>\n    <tr>\n      <th>...</th>\n      <td>...</td>\n      <td>...</td>\n      <td>...</td>\n      <td>...</td>\n      <td>...</td>\n      <td>...</td>\n      <td>...</td>\n      <td>...</td>\n      <td>...</td>\n      <td>...</td>\n    </tr>\n    <tr>\n      <th>522</th>\n      <td>WRIGHT MEDICAL TECHNOLOGY, INC</td>\n      <td>1023 CHERRY</td>\n      <td>IDB1590A000000</td>\n      <td>0015900000000D</td>\n      <td>12/31/2016</td>\n      <td>12/31/2031</td>\n      <td>$5,522</td>\n      <td>$100</td>\n      <td>$1,381</td>\n      <td>-$4,042</td>\n    </tr>\n    <tr>\n      <th>523</th>\n      <td>WRIGHT MEDICAL TECHNOLOGY, INC</td>\n      <td>0 MEMPHIS-ARLINGTON</td>\n      <td>IDB0000A000140</td>\n      <td>A0141L0A000040</td>\n      <td>12/31/2014</td>\n      <td>12/31/2024</td>\n      <td>$62,901</td>\n      <td>$62,901</td>\n      <td>$0</td>\n      <td>$0</td>\n    </tr>\n    <tr>\n      <th>524</th>\n      <td>WRIGHT MEDICAL TECHNOLOGY, INC</td>\n      <td>11576 MEMPHIS-ARLINGTON</td>\n      <td>IDB0000A00015A</td>\n      <td>3000150000000D</td>\n      <td>12/31/2014</td>\n      <td>12/31/2024</td>\n      <td>$12,884</td>\n      <td>$12,884</td>\n      <td>$0</td>\n      <td>$0</td>\n    </tr>\n    <tr>\n      <th>525</th>\n      <td>WRIGHT MEDICAL TECHNOLOGY, INC</td>\n      <td>11576 MEMPHIS ARLINGTON</td>\n      <td>IDB0000A00020A</td>\n      <td>3000160000000D</td>\n      <td>12/31/2015</td>\n      <td>12/31/2025</td>\n      <td>$1,240</td>\n      <td>$100</td>\n      <td>$310</td>\n      <td>-$830</td>\n    </tr>\n    <tr>\n      <th>526</th>\n      <td>WS HCHEM, LLC</td>\n      <td>0 WINCHESTER</td>\n      <td>IDB0000C000160</td>\n      <td>C024400A006820</td>\n      <td>06/01/2016</td>\n      <td>06/01/2023</td>\n      <td>$129,117</td>\n      <td>$129,117</td>\n      <td>$0</td>\n      <td>$0</td>\n    </tr>\n  </tbody>\n</table>\n<p>527 rows × 10 columns</p>\n</div>"
     },
     "execution_count": 7,
     "metadata": {},
     "output_type": "execute_result"
    }
   ],
   "source": [
    "# Apply functions to the columns headers\n",
    "\n",
    "df = clean_headers(df, [remove_special_for_words, truncate, snake_case, lower_case])\n",
    "# Check the new column names\n",
    "print(df.columns)\n",
    "# View the new dataframe\n",
    "df\n"
   ],
   "metadata": {
    "collapsed": false,
    "ExecuteTime": {
     "end_time": "2024-04-01T01:05:54.030338Z",
     "start_time": "2024-04-01T01:05:53.914643Z"
    }
   },
   "id": "5d0f3c7b84b5c357"
  },
  {
   "cell_type": "markdown",
   "source": [
    "<h1>COLUMNS</h3>"
   ],
   "metadata": {
    "collapsed": false
   },
   "id": "63cb39a85d82a625"
  },
  {
   "cell_type": "code",
   "execution_count": 8,
   "outputs": [
    {
     "data": {
      "text/plain": "owner                       object\nlocation                    object\npilot_parcel_no             object\nunderlying_parcel_number    object\nbegin_date                  object\nend_date                    object\nassmt_taxes                 object\npilot_contract_amt          object\npilot_debt_service_amt      object\ndifference                  object\ndtype: object"
     },
     "execution_count": 8,
     "metadata": {},
     "output_type": "execute_result"
    }
   ],
   "source": [
    "# Check the data types\n",
    "df.dtypes"
   ],
   "metadata": {
    "collapsed": false,
    "ExecuteTime": {
     "end_time": "2024-04-01T01:05:54.030413Z",
     "start_time": "2024-04-01T01:05:53.917706Z"
    }
   },
   "id": "2400e3f237ded689"
  },
  {
   "cell_type": "code",
   "execution_count": 9,
   "outputs": [],
   "source": [
    "# Define an application function for columns\n",
    "def clean_columns(df: pd.DataFrame, \n",
    "                  selected_columns: list[str], \n",
    "                  cleaning_functions_list:list[Callable]) -> pd.DataFrame:\n",
    "    for col in selected_columns:\n",
    "        for function in cleaning_functions_list:\n",
    "            df[col] = df[col].apply(lambda x: function(x))\n",
    "    return df"
   ],
   "metadata": {
    "collapsed": false,
    "ExecuteTime": {
     "end_time": "2024-04-01T01:05:54.030445Z",
     "start_time": "2024-04-01T01:05:53.920171Z"
    }
   },
   "id": "99756b21fdec027d"
  },
  {
   "cell_type": "markdown",
   "source": [
    "<h1>STRINGS</h1>"
   ],
   "metadata": {
    "collapsed": false
   },
   "id": "8cb97e8a394aa91d"
  },
  {
   "cell_type": "code",
   "execution_count": 10,
   "outputs": [
    {
     "data": {
      "text/plain": "                                                 owner  \\\n0    1 south main llc wilmont hotel limited partner...   \n1                              100 south main partners   \n2                                      1030 poplar llc   \n3                         109 south second partnership   \n4                                    115 union ave llc   \n..                                                 ...   \n522                      wright medical technology inc   \n523                      wright medical technology inc   \n524                      wright medical technology inc   \n525                      wright medical technology inc   \n526                                       ws hchem llc   \n\n                    location pilot_parcel_no  \\\n0                 79 madison  ICC03900000000   \n1                   100 main  ICC07260000000   \n2                1030 poplar  ICC07900000000   \n3                 109 second  ICC07380000000   \n4                  115 union  ICC07330000000   \n..                       ...             ...   \n522              1023 cherry  IDB1590A000000   \n523      0 memphis arlington  IDB0000A000140   \n524  11576 memphis arlington  IDB0000A00015A   \n525  11576 memphis arlington  IDB0000A00020A   \n526             0 winchester  IDB0000C000160   \n\n                              underlying_parcel_number  begin_date  \\\n0    00203800000020, 00203800000030, 00203800000060...  08/02/2000   \n1                       0020530B000010, 0020530B000030  12/23/2008   \n2                                       0200900000007C  06/15/2021   \n3                                         205300000130  04/07/2011   \n4                                         205300000020  03/29/2011   \n..                                                 ...         ...   \n522                                     0015900000000D  12/31/2016   \n523                                     A0141L0A000040  12/31/2014   \n524                                     3000150000000D  12/31/2014   \n525                                     3000160000000D  12/31/2015   \n526                                     C024400A006820  06/01/2016   \n\n       end_date assmt_taxes pilot_contract_amt pilot_debt_service_amt  \\\n0    08/02/2024    $240,731           $180,548                     $0   \n1    12/23/2023    $112,054             $3,070                $27,246   \n2    06/15/2034      $6,722             $6,722                     $0   \n3    04/07/2024     $79,863             $3,486                $19,094   \n4    03/29/2021     $29,104            $29,104                     $0   \n..          ...         ...                ...                    ...   \n522  12/31/2031      $5,522               $100                 $1,381   \n523  12/31/2024     $62,901            $62,901                     $0   \n524  12/31/2024     $12,884            $12,884                     $0   \n525  12/31/2025      $1,240               $100                   $310   \n526  06/01/2023    $129,117           $129,117                     $0   \n\n    difference  \n0     -$60,183  \n1     -$81,738  \n2           $0  \n3     -$57,283  \n4           $0  \n..         ...  \n522    -$4,042  \n523         $0  \n524         $0  \n525      -$830  \n526         $0  \n\n[527 rows x 10 columns]",
      "text/html": "<div>\n<style scoped>\n    .dataframe tbody tr th:only-of-type {\n        vertical-align: middle;\n    }\n\n    .dataframe tbody tr th {\n        vertical-align: top;\n    }\n\n    .dataframe thead th {\n        text-align: right;\n    }\n</style>\n<table border=\"1\" class=\"dataframe\">\n  <thead>\n    <tr style=\"text-align: right;\">\n      <th></th>\n      <th>owner</th>\n      <th>location</th>\n      <th>pilot_parcel_no</th>\n      <th>underlying_parcel_number</th>\n      <th>begin_date</th>\n      <th>end_date</th>\n      <th>assmt_taxes</th>\n      <th>pilot_contract_amt</th>\n      <th>pilot_debt_service_amt</th>\n      <th>difference</th>\n    </tr>\n  </thead>\n  <tbody>\n    <tr>\n      <th>0</th>\n      <td>1 south main llc wilmont hotel limited partner...</td>\n      <td>79 madison</td>\n      <td>ICC03900000000</td>\n      <td>00203800000020, 00203800000030, 00203800000060...</td>\n      <td>08/02/2000</td>\n      <td>08/02/2024</td>\n      <td>$240,731</td>\n      <td>$180,548</td>\n      <td>$0</td>\n      <td>-$60,183</td>\n    </tr>\n    <tr>\n      <th>1</th>\n      <td>100 south main partners</td>\n      <td>100 main</td>\n      <td>ICC07260000000</td>\n      <td>0020530B000010, 0020530B000030</td>\n      <td>12/23/2008</td>\n      <td>12/23/2023</td>\n      <td>$112,054</td>\n      <td>$3,070</td>\n      <td>$27,246</td>\n      <td>-$81,738</td>\n    </tr>\n    <tr>\n      <th>2</th>\n      <td>1030 poplar llc</td>\n      <td>1030 poplar</td>\n      <td>ICC07900000000</td>\n      <td>0200900000007C</td>\n      <td>06/15/2021</td>\n      <td>06/15/2034</td>\n      <td>$6,722</td>\n      <td>$6,722</td>\n      <td>$0</td>\n      <td>$0</td>\n    </tr>\n    <tr>\n      <th>3</th>\n      <td>109 south second partnership</td>\n      <td>109 second</td>\n      <td>ICC07380000000</td>\n      <td>205300000130</td>\n      <td>04/07/2011</td>\n      <td>04/07/2024</td>\n      <td>$79,863</td>\n      <td>$3,486</td>\n      <td>$19,094</td>\n      <td>-$57,283</td>\n    </tr>\n    <tr>\n      <th>4</th>\n      <td>115 union ave llc</td>\n      <td>115 union</td>\n      <td>ICC07330000000</td>\n      <td>205300000020</td>\n      <td>03/29/2011</td>\n      <td>03/29/2021</td>\n      <td>$29,104</td>\n      <td>$29,104</td>\n      <td>$0</td>\n      <td>$0</td>\n    </tr>\n    <tr>\n      <th>...</th>\n      <td>...</td>\n      <td>...</td>\n      <td>...</td>\n      <td>...</td>\n      <td>...</td>\n      <td>...</td>\n      <td>...</td>\n      <td>...</td>\n      <td>...</td>\n      <td>...</td>\n    </tr>\n    <tr>\n      <th>522</th>\n      <td>wright medical technology inc</td>\n      <td>1023 cherry</td>\n      <td>IDB1590A000000</td>\n      <td>0015900000000D</td>\n      <td>12/31/2016</td>\n      <td>12/31/2031</td>\n      <td>$5,522</td>\n      <td>$100</td>\n      <td>$1,381</td>\n      <td>-$4,042</td>\n    </tr>\n    <tr>\n      <th>523</th>\n      <td>wright medical technology inc</td>\n      <td>0 memphis arlington</td>\n      <td>IDB0000A000140</td>\n      <td>A0141L0A000040</td>\n      <td>12/31/2014</td>\n      <td>12/31/2024</td>\n      <td>$62,901</td>\n      <td>$62,901</td>\n      <td>$0</td>\n      <td>$0</td>\n    </tr>\n    <tr>\n      <th>524</th>\n      <td>wright medical technology inc</td>\n      <td>11576 memphis arlington</td>\n      <td>IDB0000A00015A</td>\n      <td>3000150000000D</td>\n      <td>12/31/2014</td>\n      <td>12/31/2024</td>\n      <td>$12,884</td>\n      <td>$12,884</td>\n      <td>$0</td>\n      <td>$0</td>\n    </tr>\n    <tr>\n      <th>525</th>\n      <td>wright medical technology inc</td>\n      <td>11576 memphis arlington</td>\n      <td>IDB0000A00020A</td>\n      <td>3000160000000D</td>\n      <td>12/31/2015</td>\n      <td>12/31/2025</td>\n      <td>$1,240</td>\n      <td>$100</td>\n      <td>$310</td>\n      <td>-$830</td>\n    </tr>\n    <tr>\n      <th>526</th>\n      <td>ws hchem llc</td>\n      <td>0 winchester</td>\n      <td>IDB0000C000160</td>\n      <td>C024400A006820</td>\n      <td>06/01/2016</td>\n      <td>06/01/2023</td>\n      <td>$129,117</td>\n      <td>$129,117</td>\n      <td>$0</td>\n      <td>$0</td>\n    </tr>\n  </tbody>\n</table>\n<p>527 rows × 10 columns</p>\n</div>"
     },
     "execution_count": 10,
     "metadata": {},
     "output_type": "execute_result"
    }
   ],
   "source": [
    "# Apply functions\n",
    "string_columns = [\"owner\", \"location\"]\n",
    "df = clean_columns(df, string_columns, [remove_special_for_words, truncate, lower_case])\n",
    "df"
   ],
   "metadata": {
    "collapsed": false,
    "ExecuteTime": {
     "end_time": "2024-04-01T01:05:54.030631Z",
     "start_time": "2024-04-01T01:05:53.926511Z"
    }
   },
   "id": "a0865219ca19ee56"
  },
  {
   "cell_type": "code",
   "execution_count": 11,
   "outputs": [
    {
     "data": {
      "text/plain": "Index(['owner', 'location', 'pilot_parcel_no', 'underlying_parcel_number',\n       'begin_date', 'end_date', 'assmt_taxes', 'pilot_contract_amt',\n       'pilot_debt_service_amt', 'difference'],\n      dtype='object')"
     },
     "execution_count": 11,
     "metadata": {},
     "output_type": "execute_result"
    }
   ],
   "source": [
    "df.columns"
   ],
   "metadata": {
    "collapsed": false,
    "ExecuteTime": {
     "end_time": "2024-04-01T01:05:54.030704Z",
     "start_time": "2024-04-01T01:05:53.930233Z"
    }
   },
   "id": "1cbfd9e8f8e994"
  },
  {
   "cell_type": "markdown",
   "source": [
    "<h2>Clean the Numeric Columns</h2>\n",
    "<p>The numeric columns in this dataframe contain some special characters which we want to keep (periods and negative signs) and some which we must remove (dollar signs and commas). We need a new function to remove only the special characters we want to remove.</p>"
   ],
   "metadata": {
    "collapsed": false
   },
   "id": "fa4da240faa2ef1"
  },
  {
   "cell_type": "markdown",
   "source": [
    "<h4>Define an Entry-Cleaning Function to Remove Only Non-Number-Related Special Characters</h4>"
   ],
   "metadata": {
    "collapsed": false
   },
   "id": "24c11284ca94f2c9"
  },
  {
   "cell_type": "code",
   "execution_count": 12,
   "outputs": [],
   "source": [
    "# Remove special characters when dealing with numbers\n",
    "# No spaces, does not remove - and .\n",
    "def remove_special_for_numbers(my_string: str | Number):\n",
    "    return re.sub(r\"[^a-zA-Z0-9-.]+\", '', str(my_string))"
   ],
   "metadata": {
    "collapsed": false,
    "ExecuteTime": {
     "end_time": "2024-04-01T01:05:54.030735Z",
     "start_time": "2024-04-01T01:05:53.932411Z"
    }
   },
   "id": "b2cb7abe9e4393a5"
  },
  {
   "cell_type": "markdown",
   "source": [
    "<h4>Apply the New Function to the Numeric Columns</h4>"
   ],
   "metadata": {
    "collapsed": false
   },
   "id": "f616550e9bca2604"
  },
  {
   "cell_type": "code",
   "execution_count": 13,
   "outputs": [
    {
     "data": {
      "text/plain": "                                                 owner  \\\n0    1 south main llc wilmont hotel limited partner...   \n1                              100 south main partners   \n2                                      1030 poplar llc   \n3                         109 south second partnership   \n4                                    115 union ave llc   \n..                                                 ...   \n522                      wright medical technology inc   \n523                      wright medical technology inc   \n524                      wright medical technology inc   \n525                      wright medical technology inc   \n526                                       ws hchem llc   \n\n                    location pilot_parcel_no  \\\n0                 79 madison  ICC03900000000   \n1                   100 main  ICC07260000000   \n2                1030 poplar  ICC07900000000   \n3                 109 second  ICC07380000000   \n4                  115 union  ICC07330000000   \n..                       ...             ...   \n522              1023 cherry  IDB1590A000000   \n523      0 memphis arlington  IDB0000A000140   \n524  11576 memphis arlington  IDB0000A00015A   \n525  11576 memphis arlington  IDB0000A00020A   \n526             0 winchester  IDB0000C000160   \n\n                              underlying_parcel_number  begin_date  \\\n0    00203800000020, 00203800000030, 00203800000060...  08/02/2000   \n1                       0020530B000010, 0020530B000030  12/23/2008   \n2                                       0200900000007C  06/15/2021   \n3                                         205300000130  04/07/2011   \n4                                         205300000020  03/29/2011   \n..                                                 ...         ...   \n522                                     0015900000000D  12/31/2016   \n523                                     A0141L0A000040  12/31/2014   \n524                                     3000150000000D  12/31/2014   \n525                                     3000160000000D  12/31/2015   \n526                                     C024400A006820  06/01/2016   \n\n       end_date assmt_taxes pilot_contract_amt pilot_debt_service_amt  \\\n0    08/02/2024      240731             180548                      0   \n1    12/23/2023      112054               3070                  27246   \n2    06/15/2034        6722               6722                      0   \n3    04/07/2024       79863               3486                  19094   \n4    03/29/2021       29104              29104                      0   \n..          ...         ...                ...                    ...   \n522  12/31/2031        5522                100                   1381   \n523  12/31/2024       62901              62901                      0   \n524  12/31/2024       12884              12884                      0   \n525  12/31/2025        1240                100                    310   \n526  06/01/2023      129117             129117                      0   \n\n    difference  \n0       -60183  \n1       -81738  \n2            0  \n3       -57283  \n4            0  \n..         ...  \n522      -4042  \n523          0  \n524          0  \n525       -830  \n526          0  \n\n[527 rows x 10 columns]",
      "text/html": "<div>\n<style scoped>\n    .dataframe tbody tr th:only-of-type {\n        vertical-align: middle;\n    }\n\n    .dataframe tbody tr th {\n        vertical-align: top;\n    }\n\n    .dataframe thead th {\n        text-align: right;\n    }\n</style>\n<table border=\"1\" class=\"dataframe\">\n  <thead>\n    <tr style=\"text-align: right;\">\n      <th></th>\n      <th>owner</th>\n      <th>location</th>\n      <th>pilot_parcel_no</th>\n      <th>underlying_parcel_number</th>\n      <th>begin_date</th>\n      <th>end_date</th>\n      <th>assmt_taxes</th>\n      <th>pilot_contract_amt</th>\n      <th>pilot_debt_service_amt</th>\n      <th>difference</th>\n    </tr>\n  </thead>\n  <tbody>\n    <tr>\n      <th>0</th>\n      <td>1 south main llc wilmont hotel limited partner...</td>\n      <td>79 madison</td>\n      <td>ICC03900000000</td>\n      <td>00203800000020, 00203800000030, 00203800000060...</td>\n      <td>08/02/2000</td>\n      <td>08/02/2024</td>\n      <td>240731</td>\n      <td>180548</td>\n      <td>0</td>\n      <td>-60183</td>\n    </tr>\n    <tr>\n      <th>1</th>\n      <td>100 south main partners</td>\n      <td>100 main</td>\n      <td>ICC07260000000</td>\n      <td>0020530B000010, 0020530B000030</td>\n      <td>12/23/2008</td>\n      <td>12/23/2023</td>\n      <td>112054</td>\n      <td>3070</td>\n      <td>27246</td>\n      <td>-81738</td>\n    </tr>\n    <tr>\n      <th>2</th>\n      <td>1030 poplar llc</td>\n      <td>1030 poplar</td>\n      <td>ICC07900000000</td>\n      <td>0200900000007C</td>\n      <td>06/15/2021</td>\n      <td>06/15/2034</td>\n      <td>6722</td>\n      <td>6722</td>\n      <td>0</td>\n      <td>0</td>\n    </tr>\n    <tr>\n      <th>3</th>\n      <td>109 south second partnership</td>\n      <td>109 second</td>\n      <td>ICC07380000000</td>\n      <td>205300000130</td>\n      <td>04/07/2011</td>\n      <td>04/07/2024</td>\n      <td>79863</td>\n      <td>3486</td>\n      <td>19094</td>\n      <td>-57283</td>\n    </tr>\n    <tr>\n      <th>4</th>\n      <td>115 union ave llc</td>\n      <td>115 union</td>\n      <td>ICC07330000000</td>\n      <td>205300000020</td>\n      <td>03/29/2011</td>\n      <td>03/29/2021</td>\n      <td>29104</td>\n      <td>29104</td>\n      <td>0</td>\n      <td>0</td>\n    </tr>\n    <tr>\n      <th>...</th>\n      <td>...</td>\n      <td>...</td>\n      <td>...</td>\n      <td>...</td>\n      <td>...</td>\n      <td>...</td>\n      <td>...</td>\n      <td>...</td>\n      <td>...</td>\n      <td>...</td>\n    </tr>\n    <tr>\n      <th>522</th>\n      <td>wright medical technology inc</td>\n      <td>1023 cherry</td>\n      <td>IDB1590A000000</td>\n      <td>0015900000000D</td>\n      <td>12/31/2016</td>\n      <td>12/31/2031</td>\n      <td>5522</td>\n      <td>100</td>\n      <td>1381</td>\n      <td>-4042</td>\n    </tr>\n    <tr>\n      <th>523</th>\n      <td>wright medical technology inc</td>\n      <td>0 memphis arlington</td>\n      <td>IDB0000A000140</td>\n      <td>A0141L0A000040</td>\n      <td>12/31/2014</td>\n      <td>12/31/2024</td>\n      <td>62901</td>\n      <td>62901</td>\n      <td>0</td>\n      <td>0</td>\n    </tr>\n    <tr>\n      <th>524</th>\n      <td>wright medical technology inc</td>\n      <td>11576 memphis arlington</td>\n      <td>IDB0000A00015A</td>\n      <td>3000150000000D</td>\n      <td>12/31/2014</td>\n      <td>12/31/2024</td>\n      <td>12884</td>\n      <td>12884</td>\n      <td>0</td>\n      <td>0</td>\n    </tr>\n    <tr>\n      <th>525</th>\n      <td>wright medical technology inc</td>\n      <td>11576 memphis arlington</td>\n      <td>IDB0000A00020A</td>\n      <td>3000160000000D</td>\n      <td>12/31/2015</td>\n      <td>12/31/2025</td>\n      <td>1240</td>\n      <td>100</td>\n      <td>310</td>\n      <td>-830</td>\n    </tr>\n    <tr>\n      <th>526</th>\n      <td>ws hchem llc</td>\n      <td>0 winchester</td>\n      <td>IDB0000C000160</td>\n      <td>C024400A006820</td>\n      <td>06/01/2016</td>\n      <td>06/01/2023</td>\n      <td>129117</td>\n      <td>129117</td>\n      <td>0</td>\n      <td>0</td>\n    </tr>\n  </tbody>\n</table>\n<p>527 rows × 10 columns</p>\n</div>"
     },
     "execution_count": 13,
     "metadata": {},
     "output_type": "execute_result"
    }
   ],
   "source": [
    "# Clean the numeric columns\n",
    "numeric_columns = ['assmt_taxes', \n",
    "                   'pilot_contract_amt',\n",
    "                   'pilot_debt_service_amt',\n",
    "                   'difference']\n",
    "df = clean_columns(df, numeric_columns, [remove_special_for_numbers])\n",
    "df"
   ],
   "metadata": {
    "collapsed": false,
    "ExecuteTime": {
     "end_time": "2024-04-01T01:05:54.030927Z",
     "start_time": "2024-04-01T01:05:53.939115Z"
    }
   },
   "id": "6a1895bc123a0f2f"
  },
  {
   "cell_type": "markdown",
   "source": [
    "<h3>Clean the List Columns</h3>\n",
    "<p>Pandas stores lists as strings by default, but it still may be wrothwhile to cast them to lists before writing the file out. This ensures that when the file is read in a gain, no mistake can be made about the nature of the column because the leading and trailing brackets will be visible.</p>"
   ],
   "metadata": {
    "collapsed": false
   },
   "id": "6760eab9ef1bedd7"
  },
  {
   "cell_type": "markdown",
   "source": [
    "<h4>Define An Entry Cleaning Function to Convert to a List, Using Commas as Delimiters</h4>\n"
   ],
   "metadata": {
    "collapsed": false
   },
   "id": "3596d42016b9dd31"
  },
  {
   "cell_type": "code",
   "execution_count": 14,
   "outputs": [],
   "source": [
    "# Note that the \"if\" statement here is not necessary. It just protects us as notebook-users from accidentally applying the function twice and winding up with nested lists\n",
    "def convert_to_list(entry: Any) -> list:\n",
    "    if isinstance(entry, list):\n",
    "        return entry\n",
    "    else:\n",
    "        return str(entry).split(\",\")"
   ],
   "metadata": {
    "collapsed": false,
    "ExecuteTime": {
     "end_time": "2024-04-01T01:05:54.030959Z",
     "start_time": "2024-04-01T01:05:53.941985Z"
    }
   },
   "id": "8b1e3a8c4b6be584"
  },
  {
   "cell_type": "markdown",
   "source": [
    "<h4>Apply The List-Casting Function to All List Columns</h4>"
   ],
   "metadata": {
    "collapsed": false
   },
   "id": "35d00ddc2378b54e"
  },
  {
   "cell_type": "code",
   "execution_count": 15,
   "outputs": [
    {
     "data": {
      "text/plain": "                                                 owner  \\\n0    1 south main llc wilmont hotel limited partner...   \n1                              100 south main partners   \n2                                      1030 poplar llc   \n3                         109 south second partnership   \n4                                    115 union ave llc   \n..                                                 ...   \n522                      wright medical technology inc   \n523                      wright medical technology inc   \n524                      wright medical technology inc   \n525                      wright medical technology inc   \n526                                       ws hchem llc   \n\n                    location   pilot_parcel_no  \\\n0                 79 madison  [ICC03900000000]   \n1                   100 main  [ICC07260000000]   \n2                1030 poplar  [ICC07900000000]   \n3                 109 second  [ICC07380000000]   \n4                  115 union  [ICC07330000000]   \n..                       ...               ...   \n522              1023 cherry  [IDB1590A000000]   \n523      0 memphis arlington  [IDB0000A000140]   \n524  11576 memphis arlington  [IDB0000A00015A]   \n525  11576 memphis arlington  [IDB0000A00020A]   \n526             0 winchester  [IDB0000C000160]   \n\n                              underlying_parcel_number  begin_date  \\\n0    [00203800000020,  00203800000030,  00203800000...  08/02/2000   \n1                    [0020530B000010,  0020530B000030]  12/23/2008   \n2                                     [0200900000007C]  06/15/2021   \n3                                       [205300000130]  04/07/2011   \n4                                       [205300000020]  03/29/2011   \n..                                                 ...         ...   \n522                                   [0015900000000D]  12/31/2016   \n523                                   [A0141L0A000040]  12/31/2014   \n524                                   [3000150000000D]  12/31/2014   \n525                                   [3000160000000D]  12/31/2015   \n526                                   [C024400A006820]  06/01/2016   \n\n       end_date assmt_taxes pilot_contract_amt pilot_debt_service_amt  \\\n0    08/02/2024      240731             180548                      0   \n1    12/23/2023      112054               3070                  27246   \n2    06/15/2034        6722               6722                      0   \n3    04/07/2024       79863               3486                  19094   \n4    03/29/2021       29104              29104                      0   \n..          ...         ...                ...                    ...   \n522  12/31/2031        5522                100                   1381   \n523  12/31/2024       62901              62901                      0   \n524  12/31/2024       12884              12884                      0   \n525  12/31/2025        1240                100                    310   \n526  06/01/2023      129117             129117                      0   \n\n    difference  \n0       -60183  \n1       -81738  \n2            0  \n3       -57283  \n4            0  \n..         ...  \n522      -4042  \n523          0  \n524          0  \n525       -830  \n526          0  \n\n[527 rows x 10 columns]",
      "text/html": "<div>\n<style scoped>\n    .dataframe tbody tr th:only-of-type {\n        vertical-align: middle;\n    }\n\n    .dataframe tbody tr th {\n        vertical-align: top;\n    }\n\n    .dataframe thead th {\n        text-align: right;\n    }\n</style>\n<table border=\"1\" class=\"dataframe\">\n  <thead>\n    <tr style=\"text-align: right;\">\n      <th></th>\n      <th>owner</th>\n      <th>location</th>\n      <th>pilot_parcel_no</th>\n      <th>underlying_parcel_number</th>\n      <th>begin_date</th>\n      <th>end_date</th>\n      <th>assmt_taxes</th>\n      <th>pilot_contract_amt</th>\n      <th>pilot_debt_service_amt</th>\n      <th>difference</th>\n    </tr>\n  </thead>\n  <tbody>\n    <tr>\n      <th>0</th>\n      <td>1 south main llc wilmont hotel limited partner...</td>\n      <td>79 madison</td>\n      <td>[ICC03900000000]</td>\n      <td>[00203800000020,  00203800000030,  00203800000...</td>\n      <td>08/02/2000</td>\n      <td>08/02/2024</td>\n      <td>240731</td>\n      <td>180548</td>\n      <td>0</td>\n      <td>-60183</td>\n    </tr>\n    <tr>\n      <th>1</th>\n      <td>100 south main partners</td>\n      <td>100 main</td>\n      <td>[ICC07260000000]</td>\n      <td>[0020530B000010,  0020530B000030]</td>\n      <td>12/23/2008</td>\n      <td>12/23/2023</td>\n      <td>112054</td>\n      <td>3070</td>\n      <td>27246</td>\n      <td>-81738</td>\n    </tr>\n    <tr>\n      <th>2</th>\n      <td>1030 poplar llc</td>\n      <td>1030 poplar</td>\n      <td>[ICC07900000000]</td>\n      <td>[0200900000007C]</td>\n      <td>06/15/2021</td>\n      <td>06/15/2034</td>\n      <td>6722</td>\n      <td>6722</td>\n      <td>0</td>\n      <td>0</td>\n    </tr>\n    <tr>\n      <th>3</th>\n      <td>109 south second partnership</td>\n      <td>109 second</td>\n      <td>[ICC07380000000]</td>\n      <td>[205300000130]</td>\n      <td>04/07/2011</td>\n      <td>04/07/2024</td>\n      <td>79863</td>\n      <td>3486</td>\n      <td>19094</td>\n      <td>-57283</td>\n    </tr>\n    <tr>\n      <th>4</th>\n      <td>115 union ave llc</td>\n      <td>115 union</td>\n      <td>[ICC07330000000]</td>\n      <td>[205300000020]</td>\n      <td>03/29/2011</td>\n      <td>03/29/2021</td>\n      <td>29104</td>\n      <td>29104</td>\n      <td>0</td>\n      <td>0</td>\n    </tr>\n    <tr>\n      <th>...</th>\n      <td>...</td>\n      <td>...</td>\n      <td>...</td>\n      <td>...</td>\n      <td>...</td>\n      <td>...</td>\n      <td>...</td>\n      <td>...</td>\n      <td>...</td>\n      <td>...</td>\n    </tr>\n    <tr>\n      <th>522</th>\n      <td>wright medical technology inc</td>\n      <td>1023 cherry</td>\n      <td>[IDB1590A000000]</td>\n      <td>[0015900000000D]</td>\n      <td>12/31/2016</td>\n      <td>12/31/2031</td>\n      <td>5522</td>\n      <td>100</td>\n      <td>1381</td>\n      <td>-4042</td>\n    </tr>\n    <tr>\n      <th>523</th>\n      <td>wright medical technology inc</td>\n      <td>0 memphis arlington</td>\n      <td>[IDB0000A000140]</td>\n      <td>[A0141L0A000040]</td>\n      <td>12/31/2014</td>\n      <td>12/31/2024</td>\n      <td>62901</td>\n      <td>62901</td>\n      <td>0</td>\n      <td>0</td>\n    </tr>\n    <tr>\n      <th>524</th>\n      <td>wright medical technology inc</td>\n      <td>11576 memphis arlington</td>\n      <td>[IDB0000A00015A]</td>\n      <td>[3000150000000D]</td>\n      <td>12/31/2014</td>\n      <td>12/31/2024</td>\n      <td>12884</td>\n      <td>12884</td>\n      <td>0</td>\n      <td>0</td>\n    </tr>\n    <tr>\n      <th>525</th>\n      <td>wright medical technology inc</td>\n      <td>11576 memphis arlington</td>\n      <td>[IDB0000A00020A]</td>\n      <td>[3000160000000D]</td>\n      <td>12/31/2015</td>\n      <td>12/31/2025</td>\n      <td>1240</td>\n      <td>100</td>\n      <td>310</td>\n      <td>-830</td>\n    </tr>\n    <tr>\n      <th>526</th>\n      <td>ws hchem llc</td>\n      <td>0 winchester</td>\n      <td>[IDB0000C000160]</td>\n      <td>[C024400A006820]</td>\n      <td>06/01/2016</td>\n      <td>06/01/2023</td>\n      <td>129117</td>\n      <td>129117</td>\n      <td>0</td>\n      <td>0</td>\n    </tr>\n  </tbody>\n</table>\n<p>527 rows × 10 columns</p>\n</div>"
     },
     "execution_count": 15,
     "metadata": {},
     "output_type": "execute_result"
    }
   ],
   "source": [
    "list_columns = ['pilot_parcel_no',\n",
    "                'underlying_parcel_number']\n",
    "df = clean_columns(df, list_columns, [convert_to_list])\n",
    "df"
   ],
   "metadata": {
    "collapsed": false,
    "ExecuteTime": {
     "end_time": "2024-04-01T01:05:54.031149Z",
     "start_time": "2024-04-01T01:05:53.949242Z"
    }
   },
   "id": "155658d01ded7b95"
  },
  {
   "cell_type": "markdown",
   "source": [
    "<h3>Clean the Date Columns</h3>\n",
    "<p>The dates in this dataframe are being stored as strings, which is not ideal. We want to store dates as timestamps, as these can be added and subtracted among other operations, unlike strings. There are two date columns: begin_date and end_date. Something is odd about the end_date column however: some of the values are not dates at all. We will return to this, but for now lets case \"begin_date\" to a timestamp."
   ],
   "metadata": {
    "collapsed": false
   },
   "id": "11d2227d003ad0d2"
  },
  {
   "cell_type": "markdown",
   "source": [
    "<h4>Define a Function For Converting an Entry to a Timestamp</h4>\n",
    "<p>Dates come in a variety of formats, so you will often need to create a custom function to convert dates for your specific data set. Be sure to check the documentation for the pd.to_datetime function before writing one. "
   ],
   "metadata": {
    "collapsed": false
   },
   "id": "38d7257502f5e1f3"
  },
  {
   "cell_type": "code",
   "execution_count": 16,
   "outputs": [],
   "source": [
    "def cast_date_to_datetime(entry: str | Number):\n",
    "    return pd.to_datetime(str(entry))"
   ],
   "metadata": {
    "collapsed": false,
    "ExecuteTime": {
     "end_time": "2024-04-01T01:05:54.031180Z",
     "start_time": "2024-04-01T01:05:53.951953Z"
    }
   },
   "id": "937100f0a994f8dd"
  },
  {
   "cell_type": "markdown",
   "source": [
    "<h4>Apply the Function to our Date Columns</h4>"
   ],
   "metadata": {
    "collapsed": false
   },
   "id": "f3d21cdbdfb4b35a"
  },
  {
   "cell_type": "code",
   "execution_count": 17,
   "outputs": [
    {
     "data": {
      "text/plain": "                                                 owner  \\\n0    1 south main llc wilmont hotel limited partner...   \n1                              100 south main partners   \n2                                      1030 poplar llc   \n3                         109 south second partnership   \n4                                    115 union ave llc   \n..                                                 ...   \n522                      wright medical technology inc   \n523                      wright medical technology inc   \n524                      wright medical technology inc   \n525                      wright medical technology inc   \n526                                       ws hchem llc   \n\n                    location   pilot_parcel_no  \\\n0                 79 madison  [ICC03900000000]   \n1                   100 main  [ICC07260000000]   \n2                1030 poplar  [ICC07900000000]   \n3                 109 second  [ICC07380000000]   \n4                  115 union  [ICC07330000000]   \n..                       ...               ...   \n522              1023 cherry  [IDB1590A000000]   \n523      0 memphis arlington  [IDB0000A000140]   \n524  11576 memphis arlington  [IDB0000A00015A]   \n525  11576 memphis arlington  [IDB0000A00020A]   \n526             0 winchester  [IDB0000C000160]   \n\n                              underlying_parcel_number begin_date    end_date  \\\n0    [00203800000020,  00203800000030,  00203800000... 2000-08-02  08/02/2024   \n1                    [0020530B000010,  0020530B000030] 2008-12-23  12/23/2023   \n2                                     [0200900000007C] 2021-06-15  06/15/2034   \n3                                       [205300000130] 2011-04-07  04/07/2024   \n4                                       [205300000020] 2011-03-29  03/29/2021   \n..                                                 ...        ...         ...   \n522                                   [0015900000000D] 2016-12-31  12/31/2031   \n523                                   [A0141L0A000040] 2014-12-31  12/31/2024   \n524                                   [3000150000000D] 2014-12-31  12/31/2024   \n525                                   [3000160000000D] 2015-12-31  12/31/2025   \n526                                   [C024400A006820] 2016-06-01  06/01/2023   \n\n    assmt_taxes pilot_contract_amt pilot_debt_service_amt difference  \n0        240731             180548                      0     -60183  \n1        112054               3070                  27246     -81738  \n2          6722               6722                      0          0  \n3         79863               3486                  19094     -57283  \n4         29104              29104                      0          0  \n..          ...                ...                    ...        ...  \n522        5522                100                   1381      -4042  \n523       62901              62901                      0          0  \n524       12884              12884                      0          0  \n525        1240                100                    310       -830  \n526      129117             129117                      0          0  \n\n[527 rows x 10 columns]",
      "text/html": "<div>\n<style scoped>\n    .dataframe tbody tr th:only-of-type {\n        vertical-align: middle;\n    }\n\n    .dataframe tbody tr th {\n        vertical-align: top;\n    }\n\n    .dataframe thead th {\n        text-align: right;\n    }\n</style>\n<table border=\"1\" class=\"dataframe\">\n  <thead>\n    <tr style=\"text-align: right;\">\n      <th></th>\n      <th>owner</th>\n      <th>location</th>\n      <th>pilot_parcel_no</th>\n      <th>underlying_parcel_number</th>\n      <th>begin_date</th>\n      <th>end_date</th>\n      <th>assmt_taxes</th>\n      <th>pilot_contract_amt</th>\n      <th>pilot_debt_service_amt</th>\n      <th>difference</th>\n    </tr>\n  </thead>\n  <tbody>\n    <tr>\n      <th>0</th>\n      <td>1 south main llc wilmont hotel limited partner...</td>\n      <td>79 madison</td>\n      <td>[ICC03900000000]</td>\n      <td>[00203800000020,  00203800000030,  00203800000...</td>\n      <td>2000-08-02</td>\n      <td>08/02/2024</td>\n      <td>240731</td>\n      <td>180548</td>\n      <td>0</td>\n      <td>-60183</td>\n    </tr>\n    <tr>\n      <th>1</th>\n      <td>100 south main partners</td>\n      <td>100 main</td>\n      <td>[ICC07260000000]</td>\n      <td>[0020530B000010,  0020530B000030]</td>\n      <td>2008-12-23</td>\n      <td>12/23/2023</td>\n      <td>112054</td>\n      <td>3070</td>\n      <td>27246</td>\n      <td>-81738</td>\n    </tr>\n    <tr>\n      <th>2</th>\n      <td>1030 poplar llc</td>\n      <td>1030 poplar</td>\n      <td>[ICC07900000000]</td>\n      <td>[0200900000007C]</td>\n      <td>2021-06-15</td>\n      <td>06/15/2034</td>\n      <td>6722</td>\n      <td>6722</td>\n      <td>0</td>\n      <td>0</td>\n    </tr>\n    <tr>\n      <th>3</th>\n      <td>109 south second partnership</td>\n      <td>109 second</td>\n      <td>[ICC07380000000]</td>\n      <td>[205300000130]</td>\n      <td>2011-04-07</td>\n      <td>04/07/2024</td>\n      <td>79863</td>\n      <td>3486</td>\n      <td>19094</td>\n      <td>-57283</td>\n    </tr>\n    <tr>\n      <th>4</th>\n      <td>115 union ave llc</td>\n      <td>115 union</td>\n      <td>[ICC07330000000]</td>\n      <td>[205300000020]</td>\n      <td>2011-03-29</td>\n      <td>03/29/2021</td>\n      <td>29104</td>\n      <td>29104</td>\n      <td>0</td>\n      <td>0</td>\n    </tr>\n    <tr>\n      <th>...</th>\n      <td>...</td>\n      <td>...</td>\n      <td>...</td>\n      <td>...</td>\n      <td>...</td>\n      <td>...</td>\n      <td>...</td>\n      <td>...</td>\n      <td>...</td>\n      <td>...</td>\n    </tr>\n    <tr>\n      <th>522</th>\n      <td>wright medical technology inc</td>\n      <td>1023 cherry</td>\n      <td>[IDB1590A000000]</td>\n      <td>[0015900000000D]</td>\n      <td>2016-12-31</td>\n      <td>12/31/2031</td>\n      <td>5522</td>\n      <td>100</td>\n      <td>1381</td>\n      <td>-4042</td>\n    </tr>\n    <tr>\n      <th>523</th>\n      <td>wright medical technology inc</td>\n      <td>0 memphis arlington</td>\n      <td>[IDB0000A000140]</td>\n      <td>[A0141L0A000040]</td>\n      <td>2014-12-31</td>\n      <td>12/31/2024</td>\n      <td>62901</td>\n      <td>62901</td>\n      <td>0</td>\n      <td>0</td>\n    </tr>\n    <tr>\n      <th>524</th>\n      <td>wright medical technology inc</td>\n      <td>11576 memphis arlington</td>\n      <td>[IDB0000A00015A]</td>\n      <td>[3000150000000D]</td>\n      <td>2014-12-31</td>\n      <td>12/31/2024</td>\n      <td>12884</td>\n      <td>12884</td>\n      <td>0</td>\n      <td>0</td>\n    </tr>\n    <tr>\n      <th>525</th>\n      <td>wright medical technology inc</td>\n      <td>11576 memphis arlington</td>\n      <td>[IDB0000A00020A]</td>\n      <td>[3000160000000D]</td>\n      <td>2015-12-31</td>\n      <td>12/31/2025</td>\n      <td>1240</td>\n      <td>100</td>\n      <td>310</td>\n      <td>-830</td>\n    </tr>\n    <tr>\n      <th>526</th>\n      <td>ws hchem llc</td>\n      <td>0 winchester</td>\n      <td>[IDB0000C000160]</td>\n      <td>[C024400A006820]</td>\n      <td>2016-06-01</td>\n      <td>06/01/2023</td>\n      <td>129117</td>\n      <td>129117</td>\n      <td>0</td>\n      <td>0</td>\n    </tr>\n  </tbody>\n</table>\n<p>527 rows × 10 columns</p>\n</div>"
     },
     "execution_count": 17,
     "metadata": {},
     "output_type": "execute_result"
    }
   ],
   "source": [
    "date_columns = [\"begin_date\"]\n",
    "df = clean_columns(df, date_columns, [cast_date_to_datetime])\n",
    "df"
   ],
   "metadata": {
    "collapsed": false,
    "ExecuteTime": {
     "end_time": "2024-04-01T01:05:54.032956Z",
     "start_time": "2024-04-01T01:05:54.002178Z"
    }
   },
   "id": "d03a507b7c15f202"
  },
  {
   "cell_type": "markdown",
   "source": [
    "<h3>Clean the Object Columns</h3>\n",
    "<p>Sometimes, we just can't cast an entire column to a single data type. The \"end_date\" column is an exmple of this. Click on the arrow next to \"end_date\" in the dataframe above to sort the values from greatest to smallest. You will notice that the \"greatest\" value is the string \"End of Loan.\" This value is substantively important for our analysis, so we don't want to replace with it a missing value, nor with a date. We must convert the rest of the dates to the correct format while allowing this \"End of Loan\" value to persist. This means that this column will remain ans n \"object\" type.\n"
   ],
   "metadata": {
    "collapsed": false
   },
   "id": "4e01ad1866a3fa2c"
  },
  {
   "cell_type": "markdown",
   "source": [
    "<h4>Define a Function to Deal with Mixed Date Data</h4>\n",
    "<p>This function features a \"try/except\" clause in order to avoid breaking when it hits the \"End of Loan\" value, which is not compatible with date castintg.</p>"
   ],
   "metadata": {
    "collapsed": false
   },
   "id": "fc8f05a73062b29c"
  },
  {
   "cell_type": "code",
   "execution_count": 18,
   "outputs": [],
   "source": [
    "def cast_end_date_to_datetime(entry: str | Number):\n",
    "    try:\n",
    "        return pd.to_datetime(str(entry))\n",
    "    except ValueError:\n",
    "        return entry"
   ],
   "metadata": {
    "collapsed": false,
    "ExecuteTime": {
     "end_time": "2024-04-01T01:05:54.033033Z",
     "start_time": "2024-04-01T01:05:54.016894Z"
    }
   },
   "id": "a78b2725deba7c66"
  },
  {
   "cell_type": "markdown",
   "source": [
    "<h4>Apply our Special Mixed-Date-Sting Object Casting Function</h4>"
   ],
   "metadata": {
    "collapsed": false
   },
   "id": "1b04433d03352277"
  },
  {
   "cell_type": "code",
   "execution_count": 19,
   "outputs": [
    {
     "data": {
      "text/plain": "                                                 owner  \\\n0    1 south main llc wilmont hotel limited partner...   \n1                              100 south main partners   \n2                                      1030 poplar llc   \n3                         109 south second partnership   \n4                                    115 union ave llc   \n..                                                 ...   \n522                      wright medical technology inc   \n523                      wright medical technology inc   \n524                      wright medical technology inc   \n525                      wright medical technology inc   \n526                                       ws hchem llc   \n\n                    location   pilot_parcel_no  \\\n0                 79 madison  [ICC03900000000]   \n1                   100 main  [ICC07260000000]   \n2                1030 poplar  [ICC07900000000]   \n3                 109 second  [ICC07380000000]   \n4                  115 union  [ICC07330000000]   \n..                       ...               ...   \n522              1023 cherry  [IDB1590A000000]   \n523      0 memphis arlington  [IDB0000A000140]   \n524  11576 memphis arlington  [IDB0000A00015A]   \n525  11576 memphis arlington  [IDB0000A00020A]   \n526             0 winchester  [IDB0000C000160]   \n\n                              underlying_parcel_number begin_date    end_date  \\\n0    [00203800000020,  00203800000030,  00203800000... 2000-08-02  08/02/2024   \n1                    [0020530B000010,  0020530B000030] 2008-12-23  12/23/2023   \n2                                     [0200900000007C] 2021-06-15  06/15/2034   \n3                                       [205300000130] 2011-04-07  04/07/2024   \n4                                       [205300000020] 2011-03-29  03/29/2021   \n..                                                 ...        ...         ...   \n522                                   [0015900000000D] 2016-12-31  12/31/2031   \n523                                   [A0141L0A000040] 2014-12-31  12/31/2024   \n524                                   [3000150000000D] 2014-12-31  12/31/2024   \n525                                   [3000160000000D] 2015-12-31  12/31/2025   \n526                                   [C024400A006820] 2016-06-01  06/01/2023   \n\n    assmt_taxes pilot_contract_amt pilot_debt_service_amt difference  \n0        240731             180548                      0     -60183  \n1        112054               3070                  27246     -81738  \n2          6722               6722                      0          0  \n3         79863               3486                  19094     -57283  \n4         29104              29104                      0          0  \n..          ...                ...                    ...        ...  \n522        5522                100                   1381      -4042  \n523       62901              62901                      0          0  \n524       12884              12884                      0          0  \n525        1240                100                    310       -830  \n526      129117             129117                      0          0  \n\n[527 rows x 10 columns]",
      "text/html": "<div>\n<style scoped>\n    .dataframe tbody tr th:only-of-type {\n        vertical-align: middle;\n    }\n\n    .dataframe tbody tr th {\n        vertical-align: top;\n    }\n\n    .dataframe thead th {\n        text-align: right;\n    }\n</style>\n<table border=\"1\" class=\"dataframe\">\n  <thead>\n    <tr style=\"text-align: right;\">\n      <th></th>\n      <th>owner</th>\n      <th>location</th>\n      <th>pilot_parcel_no</th>\n      <th>underlying_parcel_number</th>\n      <th>begin_date</th>\n      <th>end_date</th>\n      <th>assmt_taxes</th>\n      <th>pilot_contract_amt</th>\n      <th>pilot_debt_service_amt</th>\n      <th>difference</th>\n    </tr>\n  </thead>\n  <tbody>\n    <tr>\n      <th>0</th>\n      <td>1 south main llc wilmont hotel limited partner...</td>\n      <td>79 madison</td>\n      <td>[ICC03900000000]</td>\n      <td>[00203800000020,  00203800000030,  00203800000...</td>\n      <td>2000-08-02</td>\n      <td>08/02/2024</td>\n      <td>240731</td>\n      <td>180548</td>\n      <td>0</td>\n      <td>-60183</td>\n    </tr>\n    <tr>\n      <th>1</th>\n      <td>100 south main partners</td>\n      <td>100 main</td>\n      <td>[ICC07260000000]</td>\n      <td>[0020530B000010,  0020530B000030]</td>\n      <td>2008-12-23</td>\n      <td>12/23/2023</td>\n      <td>112054</td>\n      <td>3070</td>\n      <td>27246</td>\n      <td>-81738</td>\n    </tr>\n    <tr>\n      <th>2</th>\n      <td>1030 poplar llc</td>\n      <td>1030 poplar</td>\n      <td>[ICC07900000000]</td>\n      <td>[0200900000007C]</td>\n      <td>2021-06-15</td>\n      <td>06/15/2034</td>\n      <td>6722</td>\n      <td>6722</td>\n      <td>0</td>\n      <td>0</td>\n    </tr>\n    <tr>\n      <th>3</th>\n      <td>109 south second partnership</td>\n      <td>109 second</td>\n      <td>[ICC07380000000]</td>\n      <td>[205300000130]</td>\n      <td>2011-04-07</td>\n      <td>04/07/2024</td>\n      <td>79863</td>\n      <td>3486</td>\n      <td>19094</td>\n      <td>-57283</td>\n    </tr>\n    <tr>\n      <th>4</th>\n      <td>115 union ave llc</td>\n      <td>115 union</td>\n      <td>[ICC07330000000]</td>\n      <td>[205300000020]</td>\n      <td>2011-03-29</td>\n      <td>03/29/2021</td>\n      <td>29104</td>\n      <td>29104</td>\n      <td>0</td>\n      <td>0</td>\n    </tr>\n    <tr>\n      <th>...</th>\n      <td>...</td>\n      <td>...</td>\n      <td>...</td>\n      <td>...</td>\n      <td>...</td>\n      <td>...</td>\n      <td>...</td>\n      <td>...</td>\n      <td>...</td>\n      <td>...</td>\n    </tr>\n    <tr>\n      <th>522</th>\n      <td>wright medical technology inc</td>\n      <td>1023 cherry</td>\n      <td>[IDB1590A000000]</td>\n      <td>[0015900000000D]</td>\n      <td>2016-12-31</td>\n      <td>12/31/2031</td>\n      <td>5522</td>\n      <td>100</td>\n      <td>1381</td>\n      <td>-4042</td>\n    </tr>\n    <tr>\n      <th>523</th>\n      <td>wright medical technology inc</td>\n      <td>0 memphis arlington</td>\n      <td>[IDB0000A000140]</td>\n      <td>[A0141L0A000040]</td>\n      <td>2014-12-31</td>\n      <td>12/31/2024</td>\n      <td>62901</td>\n      <td>62901</td>\n      <td>0</td>\n      <td>0</td>\n    </tr>\n    <tr>\n      <th>524</th>\n      <td>wright medical technology inc</td>\n      <td>11576 memphis arlington</td>\n      <td>[IDB0000A00015A]</td>\n      <td>[3000150000000D]</td>\n      <td>2014-12-31</td>\n      <td>12/31/2024</td>\n      <td>12884</td>\n      <td>12884</td>\n      <td>0</td>\n      <td>0</td>\n    </tr>\n    <tr>\n      <th>525</th>\n      <td>wright medical technology inc</td>\n      <td>11576 memphis arlington</td>\n      <td>[IDB0000A00020A]</td>\n      <td>[3000160000000D]</td>\n      <td>2015-12-31</td>\n      <td>12/31/2025</td>\n      <td>1240</td>\n      <td>100</td>\n      <td>310</td>\n      <td>-830</td>\n    </tr>\n    <tr>\n      <th>526</th>\n      <td>ws hchem llc</td>\n      <td>0 winchester</td>\n      <td>[IDB0000C000160]</td>\n      <td>[C024400A006820]</td>\n      <td>2016-06-01</td>\n      <td>06/01/2023</td>\n      <td>129117</td>\n      <td>129117</td>\n      <td>0</td>\n      <td>0</td>\n    </tr>\n  </tbody>\n</table>\n<p>527 rows × 10 columns</p>\n</div>"
     },
     "execution_count": 19,
     "metadata": {},
     "output_type": "execute_result"
    }
   ],
   "source": [
    "# Note: because we are defining a function we are only going to use once in this case, it would be faster and easier to use a lambda function instead.\n",
    "# For consistency, we will continue using the method we have already been using, but note that the following line of commented-out code do the same thing!\n",
    "#df[\"end_date\"] = df[\"end_date\"].apply(lambda x: cast_end_date_to_datetime(x))\n",
    "\n",
    "date_columns = ['begin_date']\n",
    "df = clean_columns(df, date_columns, [cast_end_date_to_datetime])\n",
    "df\n",
    "\n"
   ],
   "metadata": {
    "collapsed": false,
    "ExecuteTime": {
     "end_time": "2024-04-01T01:05:54.162595Z",
     "start_time": "2024-04-01T01:05:54.025219Z"
    }
   },
   "id": "4372bedaead87140"
  },
  {
   "cell_type": "markdown",
   "source": [
    "<h1>Section 4: Casting Data Types</h1>\n",
    "<p>Pandas variables are stored with data types internal to the pandas library. By default, if pandas is uncertain what the data type of a column is, that column is stored as an \"object\" data type. This type is the hardest to manipulate. We want to avoid storing data as objects unless we have no choice. Casting our data forces us to create handy schema that we can use for reading the data back in later immediately as the correct data type without having to do these operations again. </p>\n",
    "    "
   ],
   "metadata": {
    "collapsed": false
   },
   "id": "54d31d650da9410d"
  },
  {
   "cell_type": "markdown",
   "source": [
    "<h3>Check the Current Data Types</h3>"
   ],
   "metadata": {
    "collapsed": false
   },
   "id": "15bdb169e4234d6a"
  },
  {
   "cell_type": "code",
   "execution_count": 20,
   "outputs": [
    {
     "data": {
      "text/plain": "owner                               object\nlocation                            object\npilot_parcel_no                     object\nunderlying_parcel_number            object\nbegin_date                  datetime64[ns]\nend_date                            object\nassmt_taxes                         object\npilot_contract_amt                  object\npilot_debt_service_amt              object\ndifference                          object\ndtype: object"
     },
     "execution_count": 20,
     "metadata": {},
     "output_type": "execute_result"
    }
   ],
   "source": [
    "# Check the current data types of the columns\n",
    "df.dtypes"
   ],
   "metadata": {
    "collapsed": false,
    "ExecuteTime": {
     "end_time": "2024-04-01T01:05:54.162770Z",
     "start_time": "2024-04-01T01:05:54.093963Z"
    }
   },
   "id": "5c5f9923b521f99c"
  },
  {
   "cell_type": "markdown",
   "source": [
    "<h3>Define a Function for Casting Data Types</h3>"
   ],
   "metadata": {
    "collapsed": false
   },
   "id": "915afcffc39a9209"
  },
  {
   "cell_type": "code",
   "execution_count": 21,
   "outputs": [],
   "source": [
    "# Define a function to cast the data types of all DataFrame Variables using a dictionary of variable names to data types, as strings.\n",
    "def cast_data_types(df: pd.DataFrame, names_to_types: dict[str,str]) -> pd.DataFrame:\n",
    "    return df.astype(names_to_types)\n",
    "\n"
   ],
   "metadata": {
    "collapsed": false,
    "ExecuteTime": {
     "end_time": "2024-04-01T01:05:54.162813Z",
     "start_time": "2024-04-01T01:05:54.096504Z"
    }
   },
   "id": "4c581a34d8f7600c"
  },
  {
   "cell_type": "markdown",
   "source": [
    "<h3>Apply the Function and Cast the Data</h3>"
   ],
   "metadata": {
    "collapsed": false
   },
   "id": "1dee23d3237962db"
  },
  {
   "cell_type": "code",
   "execution_count": 22,
   "outputs": [
    {
     "data": {
      "text/plain": "Index(['owner', 'location', 'pilot_parcel_no', 'underlying_parcel_number',\n       'begin_date', 'end_date', 'assmt_taxes', 'pilot_contract_amt',\n       'pilot_debt_service_amt', 'difference'],\n      dtype='object')"
     },
     "execution_count": 22,
     "metadata": {},
     "output_type": "execute_result"
    }
   ],
   "source": [
    "df.columns"
   ],
   "metadata": {
    "collapsed": false,
    "ExecuteTime": {
     "end_time": "2024-04-01T01:05:54.193275Z",
     "start_time": "2024-04-01T01:05:54.098707Z"
    }
   },
   "id": "a726a0460837a0b3"
  },
  {
   "cell_type": "code",
   "execution_count": 23,
   "outputs": [
    {
     "data": {
      "text/plain": "owner                       string[python]\nlocation                    string[python]\npilot_parcel_no             string[python]\nunderlying_parcel_number    string[python]\nbegin_date                  datetime64[ns]\nend_date                            object\nassmt_taxes                        float64\npilot_contract_amt                 float64\npilot_debt_service_amt             float64\ndifference                          object\ndtype: object"
     },
     "execution_count": 23,
     "metadata": {},
     "output_type": "execute_result"
    }
   ],
   "source": [
    "# Apply our function to our data using a dictionary column names to desired data types\n",
    "names_to_types = {'owner': 'string',\n",
    "                  'location': 'string',\n",
    "                  'pilot_parcel_no': 'string', \n",
    "                  'underlying_parcel_number': 'string',\n",
    "                  'begin_date': 'datetime64[ns]', \n",
    "                  'end_date': 'object',\n",
    "                  'assmt_taxes': 'float64',\n",
    "                  'pilot_contract_amt': 'float64',\n",
    "       'pilot_debt_service_amt': 'float64', \n",
    "\n",
    "                  }\n",
    "df = cast_data_types(df, names_to_types)\n",
    "\n",
    "# Check the new data types of the columns\n",
    "df.dtypes"
   ],
   "metadata": {
    "collapsed": false,
    "ExecuteTime": {
     "end_time": "2024-04-01T01:05:54.209633Z",
     "start_time": "2024-04-01T01:05:54.103181Z"
    }
   },
   "id": "f7210c78dd24f1dd"
  },
  {
   "cell_type": "markdown",
   "source": [
    "<h2>Section 5: Creating a Unique ID Column</h2>"
   ],
   "metadata": {
    "collapsed": false
   },
   "id": "2be7fe4e594785d4"
  },
  {
   "cell_type": "markdown",
   "source": [
    "<h3>Defining a Deterministic Hash Function (Advanced)</h3>\n",
    "<p>Sometimes, data does not come with a unique identifier string column. Pandas automatically creates an index column which ennumerates our data (0, 1, 2, 3 ...) but this is not the recommended way to identify unique observations (entries) in a dataframe. When we perform data joins, we want our identifying column to always contain the same unique value when associated with the same object, and for our identifiers to never overlap. Using consecutive numbers prevents overlap, but it can create confusion. Is this really the identifying column, or was it just generated by default ages ago, and everyone forgot about it? In a small dataset where few joins are performed it may not matter, but in a large one it definitely does. </p>\n",
    "\n",
    "<p>Lets create our own unique identifier based on the values in the \"owner\" column. We want to be sure that no matter when we run this function, we will always get the same unique identification string when we input the same \"owner\" value. This way, we can create anonymous unique identifiers using different datasets with different owners, and if any owners happen to be the same, they will still be associated with the same identifier.</p>"
   ],
   "metadata": {
    "collapsed": false
   },
   "id": "5ca318882ee442e6"
  },
  {
   "cell_type": "code",
   "execution_count": 24,
   "outputs": [],
   "source": [
    "# Create a unique alphanumeric string by taking a deterministic hash of an input value\n",
    "def deterministic_uuid(data:str):\n",
    "    random.seed(data)\n",
    "    id = uuid.UUID(bytes=bytes(random.getrandbits(8) for _ in range(16)), version=4)\n",
    "    id = str(id).replace(\"-\", \"\")\n",
    "    return id\n",
    "\n",
    "# Apply the function above to a DataFrame, using any number of selected columns as identifiers\n",
    "# Doing it this way allows us to use more than one column to identify unique data points (like if we wanted to use a persons first name AND last name, each in different columns, for instance).\n",
    "def set_unique_index(df: pd.DataFrame, columns_to_hash: list[str], index_name=\"id\", index_length_limit: Optional[int] = None):\n",
    "    df[index_name] = list(map(lambda x: deterministic_uuid(''.join([str(col_value) for col_value in x]))[0:index_length_limit], df[columns_to_hash].values))\n",
    "    df.set_index(index_name, inplace=True)\n",
    "    return df"
   ],
   "metadata": {
    "collapsed": false,
    "ExecuteTime": {
     "end_time": "2024-04-01T01:05:54.216380Z",
     "start_time": "2024-04-01T01:05:54.106428Z"
    }
   },
   "id": "89222a06666e1ccd"
  },
  {
   "cell_type": "markdown",
   "source": [
    "<h3>Apply the Functions to Create The ID Column</h3>\n",
    "<p> Now we will simply apply the functions we defined above, using a list of uniquely-identifying columns (in this case, just \"owner\") to distinguish one observation from another."
   ],
   "metadata": {
    "collapsed": false
   },
   "id": "ce6f14777e46ec15"
  },
  {
   "cell_type": "code",
   "execution_count": 25,
   "outputs": [
    {
     "data": {
      "text/plain": "                                                          owner  \\\nowner_id                                                          \n4d492ee75e30  1 south main llc wilmont hotel limited partner...   \n468725c9628c                            100 south main partners   \nb39884512460                                    1030 poplar llc   \nf26dc5a380c1                       109 south second partnership   \n129ab94e175b                                  115 union ave llc   \n...                                                         ...   \nd436d1c9a0ff                      wright medical technology inc   \nd436d1c9a0ff                      wright medical technology inc   \nd436d1c9a0ff                      wright medical technology inc   \nd436d1c9a0ff                      wright medical technology inc   \nccc41295a670                                       ws hchem llc   \n\n                             location     pilot_parcel_no  \\\nowner_id                                                    \n4d492ee75e30               79 madison  ['ICC03900000000']   \n468725c9628c                 100 main  ['ICC07260000000']   \nb39884512460              1030 poplar  ['ICC07900000000']   \nf26dc5a380c1               109 second  ['ICC07380000000']   \n129ab94e175b                115 union  ['ICC07330000000']   \n...                               ...                 ...   \nd436d1c9a0ff              1023 cherry  ['IDB1590A000000']   \nd436d1c9a0ff      0 memphis arlington  ['IDB0000A000140']   \nd436d1c9a0ff  11576 memphis arlington  ['IDB0000A00015A']   \nd436d1c9a0ff  11576 memphis arlington  ['IDB0000A00020A']   \nccc41295a670             0 winchester  ['IDB0000C000160']   \n\n                                       underlying_parcel_number begin_date  \\\nowner_id                                                                     \n4d492ee75e30  ['00203800000020', ' 00203800000030', ' 002038... 2000-08-02   \n468725c9628c              ['0020530B000010', ' 0020530B000030'] 2008-12-23   \nb39884512460                                 ['0200900000007C'] 2021-06-15   \nf26dc5a380c1                                   ['205300000130'] 2011-04-07   \n129ab94e175b                                   ['205300000020'] 2011-03-29   \n...                                                         ...        ...   \nd436d1c9a0ff                                 ['0015900000000D'] 2016-12-31   \nd436d1c9a0ff                                 ['A0141L0A000040'] 2014-12-31   \nd436d1c9a0ff                                 ['3000150000000D'] 2014-12-31   \nd436d1c9a0ff                                 ['3000160000000D'] 2015-12-31   \nccc41295a670                                 ['C024400A006820'] 2016-06-01   \n\n                end_date  assmt_taxes  pilot_contract_amt  \\\nowner_id                                                    \n4d492ee75e30  08/02/2024     240731.0            180548.0   \n468725c9628c  12/23/2023     112054.0              3070.0   \nb39884512460  06/15/2034       6722.0              6722.0   \nf26dc5a380c1  04/07/2024      79863.0              3486.0   \n129ab94e175b  03/29/2021      29104.0             29104.0   \n...                  ...          ...                 ...   \nd436d1c9a0ff  12/31/2031       5522.0               100.0   \nd436d1c9a0ff  12/31/2024      62901.0             62901.0   \nd436d1c9a0ff  12/31/2024      12884.0             12884.0   \nd436d1c9a0ff  12/31/2025       1240.0               100.0   \nccc41295a670  06/01/2023     129117.0            129117.0   \n\n              pilot_debt_service_amt difference  \nowner_id                                         \n4d492ee75e30                     0.0     -60183  \n468725c9628c                 27246.0     -81738  \nb39884512460                     0.0          0  \nf26dc5a380c1                 19094.0     -57283  \n129ab94e175b                     0.0          0  \n...                              ...        ...  \nd436d1c9a0ff                  1381.0      -4042  \nd436d1c9a0ff                     0.0          0  \nd436d1c9a0ff                     0.0          0  \nd436d1c9a0ff                   310.0       -830  \nccc41295a670                     0.0          0  \n\n[527 rows x 10 columns]",
      "text/html": "<div>\n<style scoped>\n    .dataframe tbody tr th:only-of-type {\n        vertical-align: middle;\n    }\n\n    .dataframe tbody tr th {\n        vertical-align: top;\n    }\n\n    .dataframe thead th {\n        text-align: right;\n    }\n</style>\n<table border=\"1\" class=\"dataframe\">\n  <thead>\n    <tr style=\"text-align: right;\">\n      <th></th>\n      <th>owner</th>\n      <th>location</th>\n      <th>pilot_parcel_no</th>\n      <th>underlying_parcel_number</th>\n      <th>begin_date</th>\n      <th>end_date</th>\n      <th>assmt_taxes</th>\n      <th>pilot_contract_amt</th>\n      <th>pilot_debt_service_amt</th>\n      <th>difference</th>\n    </tr>\n    <tr>\n      <th>owner_id</th>\n      <th></th>\n      <th></th>\n      <th></th>\n      <th></th>\n      <th></th>\n      <th></th>\n      <th></th>\n      <th></th>\n      <th></th>\n      <th></th>\n    </tr>\n  </thead>\n  <tbody>\n    <tr>\n      <th>4d492ee75e30</th>\n      <td>1 south main llc wilmont hotel limited partner...</td>\n      <td>79 madison</td>\n      <td>['ICC03900000000']</td>\n      <td>['00203800000020', ' 00203800000030', ' 002038...</td>\n      <td>2000-08-02</td>\n      <td>08/02/2024</td>\n      <td>240731.0</td>\n      <td>180548.0</td>\n      <td>0.0</td>\n      <td>-60183</td>\n    </tr>\n    <tr>\n      <th>468725c9628c</th>\n      <td>100 south main partners</td>\n      <td>100 main</td>\n      <td>['ICC07260000000']</td>\n      <td>['0020530B000010', ' 0020530B000030']</td>\n      <td>2008-12-23</td>\n      <td>12/23/2023</td>\n      <td>112054.0</td>\n      <td>3070.0</td>\n      <td>27246.0</td>\n      <td>-81738</td>\n    </tr>\n    <tr>\n      <th>b39884512460</th>\n      <td>1030 poplar llc</td>\n      <td>1030 poplar</td>\n      <td>['ICC07900000000']</td>\n      <td>['0200900000007C']</td>\n      <td>2021-06-15</td>\n      <td>06/15/2034</td>\n      <td>6722.0</td>\n      <td>6722.0</td>\n      <td>0.0</td>\n      <td>0</td>\n    </tr>\n    <tr>\n      <th>f26dc5a380c1</th>\n      <td>109 south second partnership</td>\n      <td>109 second</td>\n      <td>['ICC07380000000']</td>\n      <td>['205300000130']</td>\n      <td>2011-04-07</td>\n      <td>04/07/2024</td>\n      <td>79863.0</td>\n      <td>3486.0</td>\n      <td>19094.0</td>\n      <td>-57283</td>\n    </tr>\n    <tr>\n      <th>129ab94e175b</th>\n      <td>115 union ave llc</td>\n      <td>115 union</td>\n      <td>['ICC07330000000']</td>\n      <td>['205300000020']</td>\n      <td>2011-03-29</td>\n      <td>03/29/2021</td>\n      <td>29104.0</td>\n      <td>29104.0</td>\n      <td>0.0</td>\n      <td>0</td>\n    </tr>\n    <tr>\n      <th>...</th>\n      <td>...</td>\n      <td>...</td>\n      <td>...</td>\n      <td>...</td>\n      <td>...</td>\n      <td>...</td>\n      <td>...</td>\n      <td>...</td>\n      <td>...</td>\n      <td>...</td>\n    </tr>\n    <tr>\n      <th>d436d1c9a0ff</th>\n      <td>wright medical technology inc</td>\n      <td>1023 cherry</td>\n      <td>['IDB1590A000000']</td>\n      <td>['0015900000000D']</td>\n      <td>2016-12-31</td>\n      <td>12/31/2031</td>\n      <td>5522.0</td>\n      <td>100.0</td>\n      <td>1381.0</td>\n      <td>-4042</td>\n    </tr>\n    <tr>\n      <th>d436d1c9a0ff</th>\n      <td>wright medical technology inc</td>\n      <td>0 memphis arlington</td>\n      <td>['IDB0000A000140']</td>\n      <td>['A0141L0A000040']</td>\n      <td>2014-12-31</td>\n      <td>12/31/2024</td>\n      <td>62901.0</td>\n      <td>62901.0</td>\n      <td>0.0</td>\n      <td>0</td>\n    </tr>\n    <tr>\n      <th>d436d1c9a0ff</th>\n      <td>wright medical technology inc</td>\n      <td>11576 memphis arlington</td>\n      <td>['IDB0000A00015A']</td>\n      <td>['3000150000000D']</td>\n      <td>2014-12-31</td>\n      <td>12/31/2024</td>\n      <td>12884.0</td>\n      <td>12884.0</td>\n      <td>0.0</td>\n      <td>0</td>\n    </tr>\n    <tr>\n      <th>d436d1c9a0ff</th>\n      <td>wright medical technology inc</td>\n      <td>11576 memphis arlington</td>\n      <td>['IDB0000A00020A']</td>\n      <td>['3000160000000D']</td>\n      <td>2015-12-31</td>\n      <td>12/31/2025</td>\n      <td>1240.0</td>\n      <td>100.0</td>\n      <td>310.0</td>\n      <td>-830</td>\n    </tr>\n    <tr>\n      <th>ccc41295a670</th>\n      <td>ws hchem llc</td>\n      <td>0 winchester</td>\n      <td>['IDB0000C000160']</td>\n      <td>['C024400A006820']</td>\n      <td>2016-06-01</td>\n      <td>06/01/2023</td>\n      <td>129117.0</td>\n      <td>129117.0</td>\n      <td>0.0</td>\n      <td>0</td>\n    </tr>\n  </tbody>\n</table>\n<p>527 rows × 10 columns</p>\n</div>"
     },
     "execution_count": 25,
     "metadata": {},
     "output_type": "execute_result"
    }
   ],
   "source": [
    "# Create a unique index column based on the values in the identifying column\n",
    "# Note: Ids are based on a deterministic hash, which means they are \n",
    "# reproducible even if the function is run by a different user at a different time,\n",
    "# as long as the string in the identifying column is the same. \n",
    "identifying_columns = [\"owner\"]\n",
    "\n",
    "# The argument \"index length limit\" shortens the ID value generated to something more reasonable for this size dataset. By default, the id string is much longer.\n",
    "df = set_unique_index(df=df, columns_to_hash = identifying_columns, index_length_limit=12)\n",
    "df"
   ],
   "metadata": {
    "collapsed": false,
    "ExecuteTime": {
     "end_time": "2024-04-01T01:05:54.245923Z",
     "start_time": "2024-04-01T01:05:54.119170Z"
    }
   },
   "id": "3ec3771d45ff1d8"
  },
  {
   "cell_type": "markdown",
   "source": [
    "<h1>Section 6: Writing Out the Clean Data</h1>\n",
    "<p>Now that the data is clean, we want to write out a clean copy of the data to a new destination. We also may optionally want to convert the outfile to utf-8 format, as this format is the most versitile and can be read by the most sources."
   ],
   "metadata": {
    "collapsed": false
   },
   "id": "2b8a5eed41368025"
  },
  {
   "cell_type": "markdown",
   "source": [
    "<h3>Write Out the Data</h3>"
   ],
   "metadata": {
    "collapsed": false
   },
   "id": "564d531ec6fd42fc"
  },
  {
   "cell_type": "code",
   "execution_count": 26,
   "outputs": [],
   "source": [
    "# Save the now-clean csv\n",
    "outfile_path = \"../data/processed/s2_2019.csv\"\n",
    "df.to_csv(outfile_path, sep=\",\")"
   ],
   "metadata": {
    "collapsed": false,
    "ExecuteTime": {
     "end_time": "2024-04-01T01:05:54.254482Z",
     "start_time": "2024-04-01T01:05:54.121608Z"
    }
   },
   "id": "e2f378c3424fdf21"
  },
  {
   "cell_type": "markdown",
   "source": [
    "<h3>Define a Function to Convert a File to UTF-8 Format</h3>"
   ],
   "metadata": {
    "collapsed": false
   },
   "id": "72aacc5c262ac955"
  },
  {
   "cell_type": "code",
   "execution_count": 27,
   "outputs": [],
   "source": [
    "# convert a csv into utf8 format\n",
    "# Note that this function will replace any remaining non-utf-8-compatible special characters in the data with its nearest utf-8 equivalent.\n",
    "\n",
    "def convert_utf8(original_file_path: str, new_file_path: str):\n",
    "    df = pd.read_csv(original_file_path, converters=defaultdict(lambda i: str))\n",
    "    for column in df.columns:\n",
    "        df[column] = df[column].apply(lambda x: unidecode(str(x)))\n",
    "    df.to_csv(new_file_path, encoding='utf-8')"
   ],
   "metadata": {
    "collapsed": false,
    "ExecuteTime": {
     "end_time": "2024-04-01T01:05:54.254633Z",
     "start_time": "2024-04-01T01:05:54.127398Z"
    }
   },
   "id": "6c066fdb5631033d"
  },
  {
   "cell_type": "markdown",
   "source": [
    "<h3>Convert the Outfile to UTF8 Format</h3>"
   ],
   "metadata": {
    "collapsed": false
   },
   "id": "9c60b6cebe11ea5e"
  },
  {
   "cell_type": "code",
   "execution_count": 28,
   "outputs": [],
   "source": [
    "convert_utf8(original_file_path=outfile_path, new_file_path=outfile_path)"
   ],
   "metadata": {
    "collapsed": false,
    "ExecuteTime": {
     "end_time": "2024-04-01T01:05:54.271550Z",
     "start_time": "2024-04-01T01:05:54.129601Z"
    }
   },
   "id": "aadb09aecc8e9b9a"
  },
  {
   "cell_type": "markdown",
   "source": [
    "<h1>Section 7: Next Steps</h1>\n",
    "<p>Now that you have the basic tools to clean a dataset, you'll need some functions to manipulate that data easily for presenting summary statistics and charts. In a future notebook, I will present functions for gaining a quick snapshot of a dataset."
   ],
   "metadata": {
    "collapsed": false
   },
   "id": "1f0a57037c6f8695"
  },
  {
   "cell_type": "code",
   "execution_count": 28,
   "outputs": [],
   "source": [],
   "metadata": {
    "collapsed": false,
    "ExecuteTime": {
     "end_time": "2024-04-01T01:05:54.276347Z",
     "start_time": "2024-04-01T01:05:54.139460Z"
    }
   },
   "id": "36487f5d16310bae"
  }
 ],
 "metadata": {
  "kernelspec": {
   "display_name": "Python 3",
   "language": "python",
   "name": "python3"
  },
  "language_info": {
   "codemirror_mode": {
    "name": "ipython",
    "version": 2
   },
   "file_extension": ".py",
   "mimetype": "text/x-python",
   "name": "python",
   "nbconvert_exporter": "python",
   "pygments_lexer": "ipython2",
   "version": "2.7.6"
  }
 },
 "nbformat": 4,
 "nbformat_minor": 5
}
