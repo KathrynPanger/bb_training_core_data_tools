{
 "cells": [
  {
   "cell_type": "code",
   "execution_count": 1,
   "id": "initial_id",
   "metadata": {
    "collapsed": true,
    "ExecuteTime": {
     "end_time": "2024-04-01T01:10:23.422493Z",
     "start_time": "2024-04-01T01:10:23.051111Z"
    }
   },
   "outputs": [],
   "source": [
    "import pandas as pd\n",
    "from pandas._libs.internals import defaultdict\n",
    "from unidecode import unidecode\n",
    "from collections.abc import Callable\n",
    "import re\n",
    "from typing import Optional\n",
    "import uuid\n",
    "import random\n",
    "from numbers import Number"
   ]
  },
  {
   "cell_type": "markdown",
   "source": [
    "<h2>Section 1: Reading in the Data</h2>"
   ],
   "metadata": {
    "collapsed": false
   },
   "id": "8ed34fe2e834f932"
  },
  {
   "cell_type": "markdown",
   "source": [
    "<h3>Load a CSV into Pandas</h3>"
   ],
   "metadata": {
    "collapsed": false
   },
   "id": "6398ecc163975951"
  },
  {
   "cell_type": "code",
   "execution_count": 2,
   "outputs": [
    {
     "data": {
      "text/plain": "                                 Board          Number of Contracts      \\\n0              Downtown Memphis Commission                          123   \n1                            EDGE - Shelby                          243   \n2      Industrial Development of Arlington                           15   \n3       Industrial Development of Bartlett                           11   \n4   Industrial Development of Collierville                           14   \n5     Industrial Development of Germantown                            4   \n6     Industrial Development of Millington                            1   \n7       Health & Education Board - Memphis                           73   \n8        Health & Education Board - Shelby                            8   \n9                  Miscellaneous Contracts                           10   \n10      City / County Government Contracts                            5   \n\n       Amount Billed Pilot (INL)         Amount Billed Debt Service  \\\n0                      $1,981,904.47                  $1,226,006.18   \n1                      $2,856,659.78                  $6,149,156.86   \n2                         $52,116.90                    $114,566.56   \n3                         $15,257.82                    $146,630.61   \n4                        $774,048.02                    $661,885.66   \n5                        $237,740.75                     $96,081.97   \n6                         $10,280.12                     $79,383.24   \n7                        $930,606.59                          $0.00   \n8                        $133,533.27                          $0.00   \n9                         $35,460.00                          $0.00   \n10                         $5,706.00                          $0.00   \n\n   Assessment         Tax Based on Assessment at 2021 Tax Rate  \\\n0    $349,460,540                               $14,153,151.87   \n1    $673,220,031                               $27,265,411.26   \n2     $11,977,950                                  $485,106.98   \n3     $14,962,783                                  $605,992.71   \n4     $70,132,723                                $2,840,375.28   \n5     $15,357,250                                  $621,968.63   \n6      $7,840,320                                  $317,532.96   \n7    $128,138,985                                $5,189,628.89   \n8     $27,687,400                                $1,121,339.70   \n9      $9,033,520                                  $365,857.56   \n10     $3,141,560                                  $127,233.18   \n\n    Difference         Percentage Total PILOT Billing  \n0   -10,945,241.22                             20.69%  \n1   -18,259,594.62                             58.08%  \n2      -318,423.52                              1.07%  \n3      -444,104.28                              1.04%  \n4    -1,404,441.60                              9.26%  \n5      -288,145.91                              2.15%  \n6      -227,869.60                              0.58%  \n7    -4,259,022.30                              6.00%  \n8      -987,806.43                              0.86%  \n9      -330,397.56                              0.23%  \n10     -121,527.18                              0.04%  ",
      "text/html": "<div>\n<style scoped>\n    .dataframe tbody tr th:only-of-type {\n        vertical-align: middle;\n    }\n\n    .dataframe tbody tr th {\n        vertical-align: top;\n    }\n\n    .dataframe thead th {\n        text-align: right;\n    }\n</style>\n<table border=\"1\" class=\"dataframe\">\n  <thead>\n    <tr style=\"text-align: right;\">\n      <th></th>\n      <th>Board</th>\n      <th>Number of Contracts</th>\n      <th>Amount Billed Pilot (INL)</th>\n      <th>Amount Billed Debt Service</th>\n      <th>Assessment</th>\n      <th>Tax Based on Assessment at 2021 Tax Rate</th>\n      <th>Difference</th>\n      <th>Percentage Total PILOT Billing</th>\n    </tr>\n  </thead>\n  <tbody>\n    <tr>\n      <th>0</th>\n      <td>Downtown Memphis Commission</td>\n      <td>123</td>\n      <td>$1,981,904.47</td>\n      <td>$1,226,006.18</td>\n      <td>$349,460,540</td>\n      <td>$14,153,151.87</td>\n      <td>-10,945,241.22</td>\n      <td>20.69%</td>\n    </tr>\n    <tr>\n      <th>1</th>\n      <td>EDGE - Shelby</td>\n      <td>243</td>\n      <td>$2,856,659.78</td>\n      <td>$6,149,156.86</td>\n      <td>$673,220,031</td>\n      <td>$27,265,411.26</td>\n      <td>-18,259,594.62</td>\n      <td>58.08%</td>\n    </tr>\n    <tr>\n      <th>2</th>\n      <td>Industrial Development of Arlington</td>\n      <td>15</td>\n      <td>$52,116.90</td>\n      <td>$114,566.56</td>\n      <td>$11,977,950</td>\n      <td>$485,106.98</td>\n      <td>-318,423.52</td>\n      <td>1.07%</td>\n    </tr>\n    <tr>\n      <th>3</th>\n      <td>Industrial Development of Bartlett</td>\n      <td>11</td>\n      <td>$15,257.82</td>\n      <td>$146,630.61</td>\n      <td>$14,962,783</td>\n      <td>$605,992.71</td>\n      <td>-444,104.28</td>\n      <td>1.04%</td>\n    </tr>\n    <tr>\n      <th>4</th>\n      <td>Industrial Development of Collierville</td>\n      <td>14</td>\n      <td>$774,048.02</td>\n      <td>$661,885.66</td>\n      <td>$70,132,723</td>\n      <td>$2,840,375.28</td>\n      <td>-1,404,441.60</td>\n      <td>9.26%</td>\n    </tr>\n    <tr>\n      <th>5</th>\n      <td>Industrial Development of Germantown</td>\n      <td>4</td>\n      <td>$237,740.75</td>\n      <td>$96,081.97</td>\n      <td>$15,357,250</td>\n      <td>$621,968.63</td>\n      <td>-288,145.91</td>\n      <td>2.15%</td>\n    </tr>\n    <tr>\n      <th>6</th>\n      <td>Industrial Development of Millington</td>\n      <td>1</td>\n      <td>$10,280.12</td>\n      <td>$79,383.24</td>\n      <td>$7,840,320</td>\n      <td>$317,532.96</td>\n      <td>-227,869.60</td>\n      <td>0.58%</td>\n    </tr>\n    <tr>\n      <th>7</th>\n      <td>Health &amp; Education Board - Memphis</td>\n      <td>73</td>\n      <td>$930,606.59</td>\n      <td>$0.00</td>\n      <td>$128,138,985</td>\n      <td>$5,189,628.89</td>\n      <td>-4,259,022.30</td>\n      <td>6.00%</td>\n    </tr>\n    <tr>\n      <th>8</th>\n      <td>Health &amp; Education Board - Shelby</td>\n      <td>8</td>\n      <td>$133,533.27</td>\n      <td>$0.00</td>\n      <td>$27,687,400</td>\n      <td>$1,121,339.70</td>\n      <td>-987,806.43</td>\n      <td>0.86%</td>\n    </tr>\n    <tr>\n      <th>9</th>\n      <td>Miscellaneous Contracts</td>\n      <td>10</td>\n      <td>$35,460.00</td>\n      <td>$0.00</td>\n      <td>$9,033,520</td>\n      <td>$365,857.56</td>\n      <td>-330,397.56</td>\n      <td>0.23%</td>\n    </tr>\n    <tr>\n      <th>10</th>\n      <td>City / County Government Contracts</td>\n      <td>5</td>\n      <td>$5,706.00</td>\n      <td>$0.00</td>\n      <td>$3,141,560</td>\n      <td>$127,233.18</td>\n      <td>-121,527.18</td>\n      <td>0.04%</td>\n    </tr>\n  </tbody>\n</table>\n</div>"
     },
     "execution_count": 2,
     "metadata": {},
     "output_type": "execute_result"
    }
   ],
   "source": [
    "# load a dataframe\n",
    "infile_path = \"../data/shelby_county_properties_municipality_breakdown - s1_2019.csv\"\n",
    "df = pd.read_csv(infile_path)\n",
    "df"
   ],
   "metadata": {
    "collapsed": false,
    "ExecuteTime": {
     "end_time": "2024-04-01T01:10:23.422891Z",
     "start_time": "2024-04-01T01:10:23.352669Z"
    }
   },
   "id": "bc311fdb9d349b11"
  },
  {
   "cell_type": "markdown",
   "source": [],
   "metadata": {
    "collapsed": false
   },
   "id": "64d98c34eeff8760"
  },
  {
   "cell_type": "markdown",
   "source": [
    "<h1>Section 2: Cleaning the Columns</h1>"
   ],
   "metadata": {
    "collapsed": false
   },
   "id": "737b30f9226e4284"
  },
  {
   "cell_type": "markdown",
   "source": [
    "<h3>Clean the column headers</h3>\n",
    "Often times, column headers have spaces that you cannot see when viewed as a DataFrame. They also often have other qualities like capital letters and special characters which make selecting columns tedious or confusing. Check the column headers and decide what cleaning operations are needed. We can see in the cell below that these headers need:\n",
    "<ol>\n",
    "<li>Removal of leading and trailing spaces</li>\n",
    "<li>Lower case letters only</li>\n",
    "<li>Removal of special charqacters like \"(\" </li>\n",
    "<li>Replacement of between-word spaces with underscores \"_\"</li>\n",
    "</ol>"
   ],
   "metadata": {
    "collapsed": false
   },
   "id": "6df5ae6a5fbecf12"
  },
  {
   "cell_type": "code",
   "execution_count": 3,
   "outputs": [
    {
     "data": {
      "text/plain": "Index(['    Board    ', '    Number of Contracts    ',\n       '    Amount Billed Pilot (INL)    ', '    Amount Billed Debt Service',\n       'Assessment    ', '    Tax Based on Assessment at 2021 Tax Rate',\n       'Difference    ', '    Percentage Total PILOT Billing'],\n      dtype='object')"
     },
     "execution_count": 3,
     "metadata": {},
     "output_type": "execute_result"
    }
   ],
   "source": [
    "# Examine the strings that make the column headers\n",
    "df.columns"
   ],
   "metadata": {
    "collapsed": false,
    "ExecuteTime": {
     "end_time": "2024-04-01T01:10:23.422971Z",
     "start_time": "2024-04-01T01:10:23.361328Z"
    }
   },
   "id": "d0d339bb8e62a3b1"
  },
  {
   "cell_type": "markdown",
   "source": [],
   "metadata": {
    "collapsed": false
   },
   "id": "b26109bab95455a"
  },
  {
   "cell_type": "markdown",
   "source": [
    "<h2>Define Cleaning Functions for Cleaning Individual Entries</h2>\n",
    "First, we will define a number of functions for cleaning an entry of any data type which we can later apply where needed."
   ],
   "metadata": {
    "collapsed": false
   },
   "id": "2ad3fcdd5c90ed62"
  },
  {
   "cell_type": "code",
   "execution_count": 4,
   "outputs": [],
   "source": [
    "# Remove special characters when dealing with words\n",
    "# transforms removed characters into spaces, removes . and -\n",
    "def remove_special_for_words(entry: str | Number):\n",
    "    return re.sub(r\"[^a-zA-Z0-9]+\", ' ', str(entry))\n",
    "\n",
    "# Remove leading and trailing spaces\n",
    "def truncate(entry: str | Number):\n",
    "    return str(entry).strip()\n",
    "\n",
    "# Replace spaces with underscores\n",
    "def snake_case(entry: str | Number):\n",
    "    return str(entry).replace(\" \", \"_\")\n",
    "\n",
    "# Make all letters lowercase\n",
    "def lower_case(entry: str | Number):\n",
    "    return str(entry).lower()"
   ],
   "metadata": {
    "collapsed": false,
    "ExecuteTime": {
     "end_time": "2024-04-01T01:10:23.423005Z",
     "start_time": "2024-04-01T01:10:23.364318Z"
    }
   },
   "id": "6e188ed5be2b262d"
  },
  {
   "cell_type": "markdown",
   "source": [
    "<h2>Define a Function to Apply Any Number of Sub-functions (above) to All Column Headers</h2>\n",
    "By having a separate function which applies any number of smaller functions to a columns headers, we can clean the headers more quickly and easily than we would if we tried to do everything at once."
   ],
   "metadata": {
    "collapsed": false
   },
   "id": "29a0f0c7c90495be"
  },
  {
   "cell_type": "code",
   "execution_count": 5,
   "outputs": [],
   "source": [
    "# takes in a list of functions and applies those functions to all headers of a pandas dataframe\n",
    "def clean_headers(df: pd.DataFrame, cleaning_functions_list:list[Callable]) -> pd.DataFrame:\n",
    "    column_name_map = {item: item for item in df.columns}\n",
    "    for item in column_name_map:\n",
    "        for function in cleaning_functions_list:\n",
    "            column_name_map[item] = function(column_name_map[item])\n",
    "    df.rename(columns=column_name_map, inplace=True)\n",
    "    return df"
   ],
   "metadata": {
    "collapsed": false,
    "ExecuteTime": {
     "end_time": "2024-04-01T01:10:23.423046Z",
     "start_time": "2024-04-01T01:10:23.367657Z"
    }
   },
   "id": "4ba74678fed7e1fe"
  },
  {
   "cell_type": "markdown",
   "source": [
    "<h2>Clean the Headers</h2>\n",
    "Apply the string cleaning functions we want in the correct order to the column headers."
   ],
   "metadata": {
    "collapsed": false
   },
   "id": "47264e112fe42acf"
  },
  {
   "cell_type": "code",
   "execution_count": 6,
   "outputs": [
    {
     "name": "stdout",
     "output_type": "stream",
     "text": [
      "Index(['board', 'number_of_contracts', 'amount_billed_pilot_inl',\n",
      "       'amount_billed_debt_service', 'assessment',\n",
      "       'tax_based_on_assessment_at_2021_tax_rate', 'difference',\n",
      "       'percentage_total_pilot_billing'],\n",
      "      dtype='object')\n"
     ]
    },
    {
     "data": {
      "text/plain": "                                     board  number_of_contracts  \\\n0              Downtown Memphis Commission                  123   \n1                            EDGE - Shelby                  243   \n2      Industrial Development of Arlington                   15   \n3       Industrial Development of Bartlett                   11   \n4   Industrial Development of Collierville                   14   \n5     Industrial Development of Germantown                    4   \n6     Industrial Development of Millington                    1   \n7       Health & Education Board - Memphis                   73   \n8        Health & Education Board - Shelby                    8   \n9                  Miscellaneous Contracts                   10   \n10      City / County Government Contracts                    5   \n\n   amount_billed_pilot_inl amount_billed_debt_service    assessment  \\\n0            $1,981,904.47              $1,226,006.18  $349,460,540   \n1            $2,856,659.78              $6,149,156.86  $673,220,031   \n2               $52,116.90                $114,566.56   $11,977,950   \n3               $15,257.82                $146,630.61   $14,962,783   \n4              $774,048.02                $661,885.66   $70,132,723   \n5              $237,740.75                 $96,081.97   $15,357,250   \n6               $10,280.12                 $79,383.24    $7,840,320   \n7              $930,606.59                      $0.00  $128,138,985   \n8              $133,533.27                      $0.00   $27,687,400   \n9               $35,460.00                      $0.00    $9,033,520   \n10               $5,706.00                      $0.00    $3,141,560   \n\n   tax_based_on_assessment_at_2021_tax_rate      difference  \\\n0                            $14,153,151.87  -10,945,241.22   \n1                            $27,265,411.26  -18,259,594.62   \n2                               $485,106.98     -318,423.52   \n3                               $605,992.71     -444,104.28   \n4                             $2,840,375.28   -1,404,441.60   \n5                               $621,968.63     -288,145.91   \n6                               $317,532.96     -227,869.60   \n7                             $5,189,628.89   -4,259,022.30   \n8                             $1,121,339.70     -987,806.43   \n9                               $365,857.56     -330,397.56   \n10                              $127,233.18     -121,527.18   \n\n   percentage_total_pilot_billing  \n0                          20.69%  \n1                          58.08%  \n2                           1.07%  \n3                           1.04%  \n4                           9.26%  \n5                           2.15%  \n6                           0.58%  \n7                           6.00%  \n8                           0.86%  \n9                           0.23%  \n10                          0.04%  ",
      "text/html": "<div>\n<style scoped>\n    .dataframe tbody tr th:only-of-type {\n        vertical-align: middle;\n    }\n\n    .dataframe tbody tr th {\n        vertical-align: top;\n    }\n\n    .dataframe thead th {\n        text-align: right;\n    }\n</style>\n<table border=\"1\" class=\"dataframe\">\n  <thead>\n    <tr style=\"text-align: right;\">\n      <th></th>\n      <th>board</th>\n      <th>number_of_contracts</th>\n      <th>amount_billed_pilot_inl</th>\n      <th>amount_billed_debt_service</th>\n      <th>assessment</th>\n      <th>tax_based_on_assessment_at_2021_tax_rate</th>\n      <th>difference</th>\n      <th>percentage_total_pilot_billing</th>\n    </tr>\n  </thead>\n  <tbody>\n    <tr>\n      <th>0</th>\n      <td>Downtown Memphis Commission</td>\n      <td>123</td>\n      <td>$1,981,904.47</td>\n      <td>$1,226,006.18</td>\n      <td>$349,460,540</td>\n      <td>$14,153,151.87</td>\n      <td>-10,945,241.22</td>\n      <td>20.69%</td>\n    </tr>\n    <tr>\n      <th>1</th>\n      <td>EDGE - Shelby</td>\n      <td>243</td>\n      <td>$2,856,659.78</td>\n      <td>$6,149,156.86</td>\n      <td>$673,220,031</td>\n      <td>$27,265,411.26</td>\n      <td>-18,259,594.62</td>\n      <td>58.08%</td>\n    </tr>\n    <tr>\n      <th>2</th>\n      <td>Industrial Development of Arlington</td>\n      <td>15</td>\n      <td>$52,116.90</td>\n      <td>$114,566.56</td>\n      <td>$11,977,950</td>\n      <td>$485,106.98</td>\n      <td>-318,423.52</td>\n      <td>1.07%</td>\n    </tr>\n    <tr>\n      <th>3</th>\n      <td>Industrial Development of Bartlett</td>\n      <td>11</td>\n      <td>$15,257.82</td>\n      <td>$146,630.61</td>\n      <td>$14,962,783</td>\n      <td>$605,992.71</td>\n      <td>-444,104.28</td>\n      <td>1.04%</td>\n    </tr>\n    <tr>\n      <th>4</th>\n      <td>Industrial Development of Collierville</td>\n      <td>14</td>\n      <td>$774,048.02</td>\n      <td>$661,885.66</td>\n      <td>$70,132,723</td>\n      <td>$2,840,375.28</td>\n      <td>-1,404,441.60</td>\n      <td>9.26%</td>\n    </tr>\n    <tr>\n      <th>5</th>\n      <td>Industrial Development of Germantown</td>\n      <td>4</td>\n      <td>$237,740.75</td>\n      <td>$96,081.97</td>\n      <td>$15,357,250</td>\n      <td>$621,968.63</td>\n      <td>-288,145.91</td>\n      <td>2.15%</td>\n    </tr>\n    <tr>\n      <th>6</th>\n      <td>Industrial Development of Millington</td>\n      <td>1</td>\n      <td>$10,280.12</td>\n      <td>$79,383.24</td>\n      <td>$7,840,320</td>\n      <td>$317,532.96</td>\n      <td>-227,869.60</td>\n      <td>0.58%</td>\n    </tr>\n    <tr>\n      <th>7</th>\n      <td>Health &amp; Education Board - Memphis</td>\n      <td>73</td>\n      <td>$930,606.59</td>\n      <td>$0.00</td>\n      <td>$128,138,985</td>\n      <td>$5,189,628.89</td>\n      <td>-4,259,022.30</td>\n      <td>6.00%</td>\n    </tr>\n    <tr>\n      <th>8</th>\n      <td>Health &amp; Education Board - Shelby</td>\n      <td>8</td>\n      <td>$133,533.27</td>\n      <td>$0.00</td>\n      <td>$27,687,400</td>\n      <td>$1,121,339.70</td>\n      <td>-987,806.43</td>\n      <td>0.86%</td>\n    </tr>\n    <tr>\n      <th>9</th>\n      <td>Miscellaneous Contracts</td>\n      <td>10</td>\n      <td>$35,460.00</td>\n      <td>$0.00</td>\n      <td>$9,033,520</td>\n      <td>$365,857.56</td>\n      <td>-330,397.56</td>\n      <td>0.23%</td>\n    </tr>\n    <tr>\n      <th>10</th>\n      <td>City / County Government Contracts</td>\n      <td>5</td>\n      <td>$5,706.00</td>\n      <td>$0.00</td>\n      <td>$3,141,560</td>\n      <td>$127,233.18</td>\n      <td>-121,527.18</td>\n      <td>0.04%</td>\n    </tr>\n  </tbody>\n</table>\n</div>"
     },
     "execution_count": 6,
     "metadata": {},
     "output_type": "execute_result"
    }
   ],
   "source": [
    "# Apply functions to the columns headers to remove special characters, remove leading and trailing spaces, put headers in snake case, and make all letters lower case\n",
    "df = clean_headers(df, [remove_special_for_words, truncate, snake_case, lower_case])\n",
    "# Check the new column names\n",
    "print(df.columns)\n",
    "# View the new dataframe\n",
    "df\n"
   ],
   "metadata": {
    "collapsed": false,
    "ExecuteTime": {
     "end_time": "2024-04-01T01:10:23.423302Z",
     "start_time": "2024-04-01T01:10:23.372747Z"
    }
   },
   "id": "5d0f3c7b84b5c357"
  },
  {
   "cell_type": "markdown",
   "source": [
    "<h1>Section 3: Cleaning the Columns</h3>"
   ],
   "metadata": {
    "collapsed": false
   },
   "id": "63cb39a85d82a625"
  },
  {
   "cell_type": "markdown",
   "source": [
    "<h2>Define a Function for Applying Any Number of Sub-Functions to Selected Columns of a DataFrame</h2>\n",
    "<p>Just like before, we want to be able to select the cleaning functions we want and apply them all at once in the correct order. This means that we want a function that takes in our entry-cleaning functions as arguments and applys them to an entire column of a DataFrame</p>"
   ],
   "metadata": {
    "collapsed": false
   },
   "id": "3f839f6802e480c9"
  },
  {
   "cell_type": "code",
   "execution_count": 7,
   "outputs": [],
   "source": [
    "# Apply a list of functions to a list of columns\n",
    "def clean_columns(df: pd.DataFrame, \n",
    "                  selected_columns: list[str], \n",
    "                  cleaning_functions_list:list[Callable]) -> pd.DataFrame:\n",
    "    for col in selected_columns:\n",
    "        for function in cleaning_functions_list:\n",
    "            df[col] = df[col].apply(lambda x: function(x))\n",
    "    return df"
   ],
   "metadata": {
    "collapsed": false,
    "ExecuteTime": {
     "end_time": "2024-04-01T01:10:23.423339Z",
     "start_time": "2024-04-01T01:10:23.375749Z"
    }
   },
   "id": "99756b21fdec027d"
  },
  {
   "cell_type": "markdown",
   "source": [
    "<h2>Clean the String Columns</h2>\n",
    "<p>Columns containing string-like data often need to be cleaned using different functions than the column headers. In this example, the \"board\" column contains a number of names of different development boards in Shelbey, TN. We want to make these all lower case and to remove leading and trailing spaces, but we do not want to put it in snake case. Doing this makes it easier to compare this data to other dataframes featuring the same board names later.</p>\n",
    "<p></p>\n"
   ],
   "metadata": {
    "collapsed": false
   },
   "id": "55022d0849e0c421"
  },
  {
   "cell_type": "code",
   "execution_count": 8,
   "outputs": [
    {
     "data": {
      "text/plain": "                                     board  number_of_contracts  \\\n0              downtown memphis commission                  123   \n1                              edge shelby                  243   \n2      industrial development of arlington                   15   \n3       industrial development of bartlett                   11   \n4   industrial development of collierville                   14   \n5     industrial development of germantown                    4   \n6     industrial development of millington                    1   \n7           health education board memphis                   73   \n8            health education board shelby                    8   \n9                  miscellaneous contracts                   10   \n10        city county government contracts                    5   \n\n   amount_billed_pilot_inl amount_billed_debt_service    assessment  \\\n0            $1,981,904.47              $1,226,006.18  $349,460,540   \n1            $2,856,659.78              $6,149,156.86  $673,220,031   \n2               $52,116.90                $114,566.56   $11,977,950   \n3               $15,257.82                $146,630.61   $14,962,783   \n4              $774,048.02                $661,885.66   $70,132,723   \n5              $237,740.75                 $96,081.97   $15,357,250   \n6               $10,280.12                 $79,383.24    $7,840,320   \n7              $930,606.59                      $0.00  $128,138,985   \n8              $133,533.27                      $0.00   $27,687,400   \n9               $35,460.00                      $0.00    $9,033,520   \n10               $5,706.00                      $0.00    $3,141,560   \n\n   tax_based_on_assessment_at_2021_tax_rate      difference  \\\n0                            $14,153,151.87  -10,945,241.22   \n1                            $27,265,411.26  -18,259,594.62   \n2                               $485,106.98     -318,423.52   \n3                               $605,992.71     -444,104.28   \n4                             $2,840,375.28   -1,404,441.60   \n5                               $621,968.63     -288,145.91   \n6                               $317,532.96     -227,869.60   \n7                             $5,189,628.89   -4,259,022.30   \n8                             $1,121,339.70     -987,806.43   \n9                               $365,857.56     -330,397.56   \n10                              $127,233.18     -121,527.18   \n\n   percentage_total_pilot_billing  \n0                          20.69%  \n1                          58.08%  \n2                           1.07%  \n3                           1.04%  \n4                           9.26%  \n5                           2.15%  \n6                           0.58%  \n7                           6.00%  \n8                           0.86%  \n9                           0.23%  \n10                          0.04%  ",
      "text/html": "<div>\n<style scoped>\n    .dataframe tbody tr th:only-of-type {\n        vertical-align: middle;\n    }\n\n    .dataframe tbody tr th {\n        vertical-align: top;\n    }\n\n    .dataframe thead th {\n        text-align: right;\n    }\n</style>\n<table border=\"1\" class=\"dataframe\">\n  <thead>\n    <tr style=\"text-align: right;\">\n      <th></th>\n      <th>board</th>\n      <th>number_of_contracts</th>\n      <th>amount_billed_pilot_inl</th>\n      <th>amount_billed_debt_service</th>\n      <th>assessment</th>\n      <th>tax_based_on_assessment_at_2021_tax_rate</th>\n      <th>difference</th>\n      <th>percentage_total_pilot_billing</th>\n    </tr>\n  </thead>\n  <tbody>\n    <tr>\n      <th>0</th>\n      <td>downtown memphis commission</td>\n      <td>123</td>\n      <td>$1,981,904.47</td>\n      <td>$1,226,006.18</td>\n      <td>$349,460,540</td>\n      <td>$14,153,151.87</td>\n      <td>-10,945,241.22</td>\n      <td>20.69%</td>\n    </tr>\n    <tr>\n      <th>1</th>\n      <td>edge shelby</td>\n      <td>243</td>\n      <td>$2,856,659.78</td>\n      <td>$6,149,156.86</td>\n      <td>$673,220,031</td>\n      <td>$27,265,411.26</td>\n      <td>-18,259,594.62</td>\n      <td>58.08%</td>\n    </tr>\n    <tr>\n      <th>2</th>\n      <td>industrial development of arlington</td>\n      <td>15</td>\n      <td>$52,116.90</td>\n      <td>$114,566.56</td>\n      <td>$11,977,950</td>\n      <td>$485,106.98</td>\n      <td>-318,423.52</td>\n      <td>1.07%</td>\n    </tr>\n    <tr>\n      <th>3</th>\n      <td>industrial development of bartlett</td>\n      <td>11</td>\n      <td>$15,257.82</td>\n      <td>$146,630.61</td>\n      <td>$14,962,783</td>\n      <td>$605,992.71</td>\n      <td>-444,104.28</td>\n      <td>1.04%</td>\n    </tr>\n    <tr>\n      <th>4</th>\n      <td>industrial development of collierville</td>\n      <td>14</td>\n      <td>$774,048.02</td>\n      <td>$661,885.66</td>\n      <td>$70,132,723</td>\n      <td>$2,840,375.28</td>\n      <td>-1,404,441.60</td>\n      <td>9.26%</td>\n    </tr>\n    <tr>\n      <th>5</th>\n      <td>industrial development of germantown</td>\n      <td>4</td>\n      <td>$237,740.75</td>\n      <td>$96,081.97</td>\n      <td>$15,357,250</td>\n      <td>$621,968.63</td>\n      <td>-288,145.91</td>\n      <td>2.15%</td>\n    </tr>\n    <tr>\n      <th>6</th>\n      <td>industrial development of millington</td>\n      <td>1</td>\n      <td>$10,280.12</td>\n      <td>$79,383.24</td>\n      <td>$7,840,320</td>\n      <td>$317,532.96</td>\n      <td>-227,869.60</td>\n      <td>0.58%</td>\n    </tr>\n    <tr>\n      <th>7</th>\n      <td>health education board memphis</td>\n      <td>73</td>\n      <td>$930,606.59</td>\n      <td>$0.00</td>\n      <td>$128,138,985</td>\n      <td>$5,189,628.89</td>\n      <td>-4,259,022.30</td>\n      <td>6.00%</td>\n    </tr>\n    <tr>\n      <th>8</th>\n      <td>health education board shelby</td>\n      <td>8</td>\n      <td>$133,533.27</td>\n      <td>$0.00</td>\n      <td>$27,687,400</td>\n      <td>$1,121,339.70</td>\n      <td>-987,806.43</td>\n      <td>0.86%</td>\n    </tr>\n    <tr>\n      <th>9</th>\n      <td>miscellaneous contracts</td>\n      <td>10</td>\n      <td>$35,460.00</td>\n      <td>$0.00</td>\n      <td>$9,033,520</td>\n      <td>$365,857.56</td>\n      <td>-330,397.56</td>\n      <td>0.23%</td>\n    </tr>\n    <tr>\n      <th>10</th>\n      <td>city county government contracts</td>\n      <td>5</td>\n      <td>$5,706.00</td>\n      <td>$0.00</td>\n      <td>$3,141,560</td>\n      <td>$127,233.18</td>\n      <td>-121,527.18</td>\n      <td>0.04%</td>\n    </tr>\n  </tbody>\n</table>\n</div>"
     },
     "execution_count": 8,
     "metadata": {},
     "output_type": "execute_result"
    }
   ],
   "source": [
    "# Apply the correct entry-cleaning functions to each of our string columns. Note that we only have one in this example, but we could add as many as we like to the \"string_columns\" list if we want more\n",
    "\n",
    "string_columns = [\"board\"]\n",
    "df = clean_columns(df, string_columns, [remove_special_for_words, truncate, lower_case])\n",
    "df"
   ],
   "metadata": {
    "collapsed": false,
    "ExecuteTime": {
     "end_time": "2024-04-01T01:10:23.423518Z",
     "start_time": "2024-04-01T01:10:23.380309Z"
    }
   },
   "id": "a0865219ca19ee56"
  },
  {
   "cell_type": "markdown",
   "source": [
    "<h2>Clean the Numeric Columns</h2>\n",
    "<p>The numeric columns in this dataframe contain some special characters which we want to keep (periods and negative signs) and some which we must remove (dollar signs and commas). We need a new function to remove only the special characters we want to remove.</p>"
   ],
   "metadata": {
    "collapsed": false
   },
   "id": "fa4da240faa2ef1"
  },
  {
   "cell_type": "markdown",
   "source": [
    "<h4>Define a Function to Remove Only Non-Number-Related Special Characters</h4>"
   ],
   "metadata": {
    "collapsed": false
   },
   "id": "24c11284ca94f2c9"
  },
  {
   "cell_type": "code",
   "execution_count": 9,
   "outputs": [],
   "source": [
    "# Remove special characters when dealing with numbers\n",
    "# No spaces, does not remove - and .\n",
    "def remove_special_for_numbers(my_string: str | Number):\n",
    "    return re.sub(r\"[^a-zA-Z0-9-.]+\", '', str(my_string))"
   ],
   "metadata": {
    "collapsed": false,
    "ExecuteTime": {
     "end_time": "2024-04-01T01:10:23.423548Z",
     "start_time": "2024-04-01T01:10:23.383083Z"
    }
   },
   "id": "b2cb7abe9e4393a5"
  },
  {
   "cell_type": "markdown",
   "source": [
    "<h4>Apply the Function to the Numeric Columns</h4>"
   ],
   "metadata": {
    "collapsed": false
   },
   "id": "f616550e9bca2604"
  },
  {
   "cell_type": "code",
   "execution_count": 10,
   "outputs": [
    {
     "data": {
      "text/plain": "                                     board  number_of_contracts  \\\n0              downtown memphis commission                  123   \n1                              edge shelby                  243   \n2      industrial development of arlington                   15   \n3       industrial development of bartlett                   11   \n4   industrial development of collierville                   14   \n5     industrial development of germantown                    4   \n6     industrial development of millington                    1   \n7           health education board memphis                   73   \n8            health education board shelby                    8   \n9                  miscellaneous contracts                   10   \n10        city county government contracts                    5   \n\n   amount_billed_pilot_inl amount_billed_debt_service assessment  \\\n0               1981904.47                 1226006.18  349460540   \n1               2856659.78                 6149156.86  673220031   \n2                 52116.90                  114566.56   11977950   \n3                 15257.82                  146630.61   14962783   \n4                774048.02                  661885.66   70132723   \n5                237740.75                   96081.97   15357250   \n6                 10280.12                   79383.24    7840320   \n7                930606.59                       0.00  128138985   \n8                133533.27                       0.00   27687400   \n9                 35460.00                       0.00    9033520   \n10                 5706.00                       0.00    3141560   \n\n   tax_based_on_assessment_at_2021_tax_rate    difference  \\\n0                               14153151.87  -10945241.22   \n1                               27265411.26  -18259594.62   \n2                                 485106.98    -318423.52   \n3                                 605992.71    -444104.28   \n4                                2840375.28   -1404441.60   \n5                                 621968.63    -288145.91   \n6                                 317532.96    -227869.60   \n7                                5189628.89   -4259022.30   \n8                                1121339.70    -987806.43   \n9                                 365857.56    -330397.56   \n10                                127233.18    -121527.18   \n\n   percentage_total_pilot_billing  \n0                           20.69  \n1                           58.08  \n2                            1.07  \n3                            1.04  \n4                            9.26  \n5                            2.15  \n6                            0.58  \n7                            6.00  \n8                            0.86  \n9                            0.23  \n10                           0.04  ",
      "text/html": "<div>\n<style scoped>\n    .dataframe tbody tr th:only-of-type {\n        vertical-align: middle;\n    }\n\n    .dataframe tbody tr th {\n        vertical-align: top;\n    }\n\n    .dataframe thead th {\n        text-align: right;\n    }\n</style>\n<table border=\"1\" class=\"dataframe\">\n  <thead>\n    <tr style=\"text-align: right;\">\n      <th></th>\n      <th>board</th>\n      <th>number_of_contracts</th>\n      <th>amount_billed_pilot_inl</th>\n      <th>amount_billed_debt_service</th>\n      <th>assessment</th>\n      <th>tax_based_on_assessment_at_2021_tax_rate</th>\n      <th>difference</th>\n      <th>percentage_total_pilot_billing</th>\n    </tr>\n  </thead>\n  <tbody>\n    <tr>\n      <th>0</th>\n      <td>downtown memphis commission</td>\n      <td>123</td>\n      <td>1981904.47</td>\n      <td>1226006.18</td>\n      <td>349460540</td>\n      <td>14153151.87</td>\n      <td>-10945241.22</td>\n      <td>20.69</td>\n    </tr>\n    <tr>\n      <th>1</th>\n      <td>edge shelby</td>\n      <td>243</td>\n      <td>2856659.78</td>\n      <td>6149156.86</td>\n      <td>673220031</td>\n      <td>27265411.26</td>\n      <td>-18259594.62</td>\n      <td>58.08</td>\n    </tr>\n    <tr>\n      <th>2</th>\n      <td>industrial development of arlington</td>\n      <td>15</td>\n      <td>52116.90</td>\n      <td>114566.56</td>\n      <td>11977950</td>\n      <td>485106.98</td>\n      <td>-318423.52</td>\n      <td>1.07</td>\n    </tr>\n    <tr>\n      <th>3</th>\n      <td>industrial development of bartlett</td>\n      <td>11</td>\n      <td>15257.82</td>\n      <td>146630.61</td>\n      <td>14962783</td>\n      <td>605992.71</td>\n      <td>-444104.28</td>\n      <td>1.04</td>\n    </tr>\n    <tr>\n      <th>4</th>\n      <td>industrial development of collierville</td>\n      <td>14</td>\n      <td>774048.02</td>\n      <td>661885.66</td>\n      <td>70132723</td>\n      <td>2840375.28</td>\n      <td>-1404441.60</td>\n      <td>9.26</td>\n    </tr>\n    <tr>\n      <th>5</th>\n      <td>industrial development of germantown</td>\n      <td>4</td>\n      <td>237740.75</td>\n      <td>96081.97</td>\n      <td>15357250</td>\n      <td>621968.63</td>\n      <td>-288145.91</td>\n      <td>2.15</td>\n    </tr>\n    <tr>\n      <th>6</th>\n      <td>industrial development of millington</td>\n      <td>1</td>\n      <td>10280.12</td>\n      <td>79383.24</td>\n      <td>7840320</td>\n      <td>317532.96</td>\n      <td>-227869.60</td>\n      <td>0.58</td>\n    </tr>\n    <tr>\n      <th>7</th>\n      <td>health education board memphis</td>\n      <td>73</td>\n      <td>930606.59</td>\n      <td>0.00</td>\n      <td>128138985</td>\n      <td>5189628.89</td>\n      <td>-4259022.30</td>\n      <td>6.00</td>\n    </tr>\n    <tr>\n      <th>8</th>\n      <td>health education board shelby</td>\n      <td>8</td>\n      <td>133533.27</td>\n      <td>0.00</td>\n      <td>27687400</td>\n      <td>1121339.70</td>\n      <td>-987806.43</td>\n      <td>0.86</td>\n    </tr>\n    <tr>\n      <th>9</th>\n      <td>miscellaneous contracts</td>\n      <td>10</td>\n      <td>35460.00</td>\n      <td>0.00</td>\n      <td>9033520</td>\n      <td>365857.56</td>\n      <td>-330397.56</td>\n      <td>0.23</td>\n    </tr>\n    <tr>\n      <th>10</th>\n      <td>city county government contracts</td>\n      <td>5</td>\n      <td>5706.00</td>\n      <td>0.00</td>\n      <td>3141560</td>\n      <td>127233.18</td>\n      <td>-121527.18</td>\n      <td>0.04</td>\n    </tr>\n  </tbody>\n</table>\n</div>"
     },
     "execution_count": 10,
     "metadata": {},
     "output_type": "execute_result"
    }
   ],
   "source": [
    "# Clean the numeric columns\n",
    "numeric_columns = ['amount_billed_pilot_inl', \n",
    "                   'amount_billed_debt_service', \n",
    "                   'assessment',\n",
    "                   'tax_based_on_assessment_at_2021_tax_rate', \n",
    "                   'difference',\n",
    "                   'percentage_total_pilot_billing']\n",
    "df = clean_columns(df, numeric_columns, [remove_special_for_numbers])\n",
    "df"
   ],
   "metadata": {
    "collapsed": false,
    "ExecuteTime": {
     "end_time": "2024-04-01T01:10:23.423732Z",
     "start_time": "2024-04-01T01:10:23.388078Z"
    }
   },
   "id": "6a1895bc123a0f2f"
  },
  {
   "cell_type": "markdown",
   "source": [
    "<h2>Section 4: Creating a Unique ID Column</h2>"
   ],
   "metadata": {
    "collapsed": false
   },
   "id": "2be7fe4e594785d4"
  },
  {
   "cell_type": "markdown",
   "source": [
    "<h3>Defining a Deterministic Hash Function (Advanced)</h3>\n",
    "<p>Sometimes, data does not come with a unique identifier string column. Pandas automatically creates an index column which ennumerates our data (0, 1, 2, 3 ...) but this is not the recommended way to identify unique observations (entries) in a dataframe. When we perform data joins, we want our identifying column to always contain the same unique value when associated with the same object, and for our identifiers to never overlap. Using consecutive numbers prevents overlap, but it can create confusion. Is this really the identifying column, or was it just generated by default ages ago, and everyone forgot about it? In a small dataset where few joins are performed it may not matter, but in a large one it definitely does. </p>\n",
    "\n",
    "<p>Lets create our own unique identifier based on the values in the \"board\" column. We want to be sure that no matter when we run this function, we will always get the same unique identification string when we input the same \"board\" value. This way, we can create anonymous unique identifiers using different datasets with different boards, and if any boards happen to be the same, they will still be associated with the same identifier.</p>"
   ],
   "metadata": {
    "collapsed": false
   },
   "id": "5ca318882ee442e6"
  },
  {
   "cell_type": "code",
   "execution_count": 11,
   "outputs": [],
   "source": [
    "# Create a unique alphanumeric string by taking a deterministic hash of an input value\n",
    "def deterministic_uuid(data:str):\n",
    "    random.seed(data)\n",
    "    id = uuid.UUID(bytes=bytes(random.getrandbits(8) for _ in range(16)), version=4)\n",
    "    id = str(id).replace(\"-\", \"\")\n",
    "    return id\n",
    "\n",
    "# Apply the function above to a DataFrame, using any number of selected columns as identifiers\n",
    "# Doing it this way allows us to use more than one column to identify unique data points (like if we wanted to use a persons first name AND last name, each in different columns, for instance).\n",
    "def set_unique_index(df: pd.DataFrame, columns_to_hash: list[str], index_name=\"id\", index_length_limit: Optional[int] = None):\n",
    "    df[index_name] = list(map(lambda x: deterministic_uuid(''.join([str(col_value) for col_value in x]))[0:index_length_limit], df[columns_to_hash].values))\n",
    "    df.set_index(index_name, inplace=True)\n",
    "    return df"
   ],
   "metadata": {
    "collapsed": false,
    "ExecuteTime": {
     "end_time": "2024-04-01T01:10:23.423765Z",
     "start_time": "2024-04-01T01:10:23.391509Z"
    }
   },
   "id": "89222a06666e1ccd"
  },
  {
   "cell_type": "markdown",
   "source": [
    "<h3>Apply the Functions to Create The ID Column</h3>\n",
    "<p> Now we will simply apply the functions we defined above, using a list of uniquely-identifying columns (in this case, just \"board\") to distinguish one observation from another."
   ],
   "metadata": {
    "collapsed": false
   },
   "id": "ce6f14777e46ec15"
  },
  {
   "cell_type": "code",
   "execution_count": 12,
   "outputs": [
    {
     "data": {
      "text/plain": "                                               board  number_of_contracts  \\\nboard_id                                                                    \n5b1f4c0c65a3             downtown memphis commission                  123   \nd5fe3a85ec4e                             edge shelby                  243   \nabb34861ca91     industrial development of arlington                   15   \naada4183f85c      industrial development of bartlett                   11   \n91e543f3085f  industrial development of collierville                   14   \n3f1cf0abc31c    industrial development of germantown                    4   \n757a7152194c    industrial development of millington                    1   \n3bcfcbd3a12d          health education board memphis                   73   \n64c9e33b120e           health education board shelby                    8   \ndf3a7c5fc143                 miscellaneous contracts                   10   \nac18571846b6        city county government contracts                    5   \n\n             amount_billed_pilot_inl amount_billed_debt_service assessment  \\\nboard_id                                                                     \n5b1f4c0c65a3              1981904.47                 1226006.18  349460540   \nd5fe3a85ec4e              2856659.78                 6149156.86  673220031   \nabb34861ca91                52116.90                  114566.56   11977950   \naada4183f85c                15257.82                  146630.61   14962783   \n91e543f3085f               774048.02                  661885.66   70132723   \n3f1cf0abc31c               237740.75                   96081.97   15357250   \n757a7152194c                10280.12                   79383.24    7840320   \n3bcfcbd3a12d               930606.59                       0.00  128138985   \n64c9e33b120e               133533.27                       0.00   27687400   \ndf3a7c5fc143                35460.00                       0.00    9033520   \nac18571846b6                 5706.00                       0.00    3141560   \n\n             tax_based_on_assessment_at_2021_tax_rate    difference  \\\nboard_id                                                              \n5b1f4c0c65a3                              14153151.87  -10945241.22   \nd5fe3a85ec4e                              27265411.26  -18259594.62   \nabb34861ca91                                485106.98    -318423.52   \naada4183f85c                                605992.71    -444104.28   \n91e543f3085f                               2840375.28   -1404441.60   \n3f1cf0abc31c                                621968.63    -288145.91   \n757a7152194c                                317532.96    -227869.60   \n3bcfcbd3a12d                               5189628.89   -4259022.30   \n64c9e33b120e                               1121339.70    -987806.43   \ndf3a7c5fc143                                365857.56    -330397.56   \nac18571846b6                                127233.18    -121527.18   \n\n             percentage_total_pilot_billing  \nboard_id                                     \n5b1f4c0c65a3                          20.69  \nd5fe3a85ec4e                          58.08  \nabb34861ca91                           1.07  \naada4183f85c                           1.04  \n91e543f3085f                           9.26  \n3f1cf0abc31c                           2.15  \n757a7152194c                           0.58  \n3bcfcbd3a12d                           6.00  \n64c9e33b120e                           0.86  \ndf3a7c5fc143                           0.23  \nac18571846b6                           0.04  ",
      "text/html": "<div>\n<style scoped>\n    .dataframe tbody tr th:only-of-type {\n        vertical-align: middle;\n    }\n\n    .dataframe tbody tr th {\n        vertical-align: top;\n    }\n\n    .dataframe thead th {\n        text-align: right;\n    }\n</style>\n<table border=\"1\" class=\"dataframe\">\n  <thead>\n    <tr style=\"text-align: right;\">\n      <th></th>\n      <th>board</th>\n      <th>number_of_contracts</th>\n      <th>amount_billed_pilot_inl</th>\n      <th>amount_billed_debt_service</th>\n      <th>assessment</th>\n      <th>tax_based_on_assessment_at_2021_tax_rate</th>\n      <th>difference</th>\n      <th>percentage_total_pilot_billing</th>\n    </tr>\n    <tr>\n      <th>board_id</th>\n      <th></th>\n      <th></th>\n      <th></th>\n      <th></th>\n      <th></th>\n      <th></th>\n      <th></th>\n      <th></th>\n    </tr>\n  </thead>\n  <tbody>\n    <tr>\n      <th>5b1f4c0c65a3</th>\n      <td>downtown memphis commission</td>\n      <td>123</td>\n      <td>1981904.47</td>\n      <td>1226006.18</td>\n      <td>349460540</td>\n      <td>14153151.87</td>\n      <td>-10945241.22</td>\n      <td>20.69</td>\n    </tr>\n    <tr>\n      <th>d5fe3a85ec4e</th>\n      <td>edge shelby</td>\n      <td>243</td>\n      <td>2856659.78</td>\n      <td>6149156.86</td>\n      <td>673220031</td>\n      <td>27265411.26</td>\n      <td>-18259594.62</td>\n      <td>58.08</td>\n    </tr>\n    <tr>\n      <th>abb34861ca91</th>\n      <td>industrial development of arlington</td>\n      <td>15</td>\n      <td>52116.90</td>\n      <td>114566.56</td>\n      <td>11977950</td>\n      <td>485106.98</td>\n      <td>-318423.52</td>\n      <td>1.07</td>\n    </tr>\n    <tr>\n      <th>aada4183f85c</th>\n      <td>industrial development of bartlett</td>\n      <td>11</td>\n      <td>15257.82</td>\n      <td>146630.61</td>\n      <td>14962783</td>\n      <td>605992.71</td>\n      <td>-444104.28</td>\n      <td>1.04</td>\n    </tr>\n    <tr>\n      <th>91e543f3085f</th>\n      <td>industrial development of collierville</td>\n      <td>14</td>\n      <td>774048.02</td>\n      <td>661885.66</td>\n      <td>70132723</td>\n      <td>2840375.28</td>\n      <td>-1404441.60</td>\n      <td>9.26</td>\n    </tr>\n    <tr>\n      <th>3f1cf0abc31c</th>\n      <td>industrial development of germantown</td>\n      <td>4</td>\n      <td>237740.75</td>\n      <td>96081.97</td>\n      <td>15357250</td>\n      <td>621968.63</td>\n      <td>-288145.91</td>\n      <td>2.15</td>\n    </tr>\n    <tr>\n      <th>757a7152194c</th>\n      <td>industrial development of millington</td>\n      <td>1</td>\n      <td>10280.12</td>\n      <td>79383.24</td>\n      <td>7840320</td>\n      <td>317532.96</td>\n      <td>-227869.60</td>\n      <td>0.58</td>\n    </tr>\n    <tr>\n      <th>3bcfcbd3a12d</th>\n      <td>health education board memphis</td>\n      <td>73</td>\n      <td>930606.59</td>\n      <td>0.00</td>\n      <td>128138985</td>\n      <td>5189628.89</td>\n      <td>-4259022.30</td>\n      <td>6.00</td>\n    </tr>\n    <tr>\n      <th>64c9e33b120e</th>\n      <td>health education board shelby</td>\n      <td>8</td>\n      <td>133533.27</td>\n      <td>0.00</td>\n      <td>27687400</td>\n      <td>1121339.70</td>\n      <td>-987806.43</td>\n      <td>0.86</td>\n    </tr>\n    <tr>\n      <th>df3a7c5fc143</th>\n      <td>miscellaneous contracts</td>\n      <td>10</td>\n      <td>35460.00</td>\n      <td>0.00</td>\n      <td>9033520</td>\n      <td>365857.56</td>\n      <td>-330397.56</td>\n      <td>0.23</td>\n    </tr>\n    <tr>\n      <th>ac18571846b6</th>\n      <td>city county government contracts</td>\n      <td>5</td>\n      <td>5706.00</td>\n      <td>0.00</td>\n      <td>3141560</td>\n      <td>127233.18</td>\n      <td>-121527.18</td>\n      <td>0.04</td>\n    </tr>\n  </tbody>\n</table>\n</div>"
     },
     "execution_count": 12,
     "metadata": {},
     "output_type": "execute_result"
    }
   ],
   "source": [
    "# Create a unique index column based on the values in the identifying column\n",
    "# Note: Ids are based on a deterministic hash, which means they are \n",
    "# reproducible even if the function is run by a different user at a different time,\n",
    "# as long as the string in the identifying column is the same. \n",
    "identifying_columns = [\"board\"]\n",
    "\n",
    "# The argument \"index length limit\" shortens the ID value generated to something more reasonable for this size dataset. By default, the id string is much longer.\n",
    "df = set_unique_index(df=df, columns_to_hash = identifying_columns, index_length_limit=12)\n",
    "df"
   ],
   "metadata": {
    "collapsed": false,
    "ExecuteTime": {
     "end_time": "2024-04-01T01:10:23.423950Z",
     "start_time": "2024-04-01T01:10:23.396811Z"
    }
   },
   "id": "3ec3771d45ff1d8"
  },
  {
   "cell_type": "markdown",
   "source": [
    "<h1>Section 5: Casting Data Types</h1>\n",
    "<p>Pandas variables are stored with data types internal to the pandas library. By default, if pandas is uncertain what the data type of a column is, that column is stored as an \"object\" data type. This type is the hardest to manipulate. We want to avoid storing data as objects unless we have no choice. Casting our data forces us to create handy schema that we can use for reading the data back in later immediately as the correct data type without having to do these operations again. \n",
    "    "
   ],
   "metadata": {
    "collapsed": false
   },
   "id": "54d31d650da9410d"
  },
  {
   "cell_type": "markdown",
   "source": [
    "<h3>Check the Current Data Types</h3>"
   ],
   "metadata": {
    "collapsed": false
   },
   "id": "15bdb169e4234d6a"
  },
  {
   "cell_type": "code",
   "execution_count": 13,
   "outputs": [
    {
     "data": {
      "text/plain": "board                                       object\nnumber_of_contracts                          int64\namount_billed_pilot_inl                     object\namount_billed_debt_service                  object\nassessment                                  object\ntax_based_on_assessment_at_2021_tax_rate    object\ndifference                                  object\npercentage_total_pilot_billing              object\ndtype: object"
     },
     "execution_count": 13,
     "metadata": {},
     "output_type": "execute_result"
    }
   ],
   "source": [
    "# Check the current data types of the columns\n",
    "df.dtypes"
   ],
   "metadata": {
    "collapsed": false,
    "ExecuteTime": {
     "end_time": "2024-04-01T01:10:23.429522Z",
     "start_time": "2024-04-01T01:10:23.399623Z"
    }
   },
   "id": "5c5f9923b521f99c"
  },
  {
   "cell_type": "markdown",
   "source": [
    "<h3>Define a Function for Casting Data Types</h3>"
   ],
   "metadata": {
    "collapsed": false
   },
   "id": "915afcffc39a9209"
  },
  {
   "cell_type": "code",
   "execution_count": 14,
   "outputs": [],
   "source": [
    "# Define a function to cast the data types of all DataFrame Variables using a dictionary of variable names to data types, as strings.\n",
    "def cast_data_types(df: pd.DataFrame, names_to_types: dict[str,str]) -> pd.DataFrame:\n",
    "    return df.astype(names_to_types)\n",
    "\n"
   ],
   "metadata": {
    "collapsed": false,
    "ExecuteTime": {
     "end_time": "2024-04-01T01:10:23.429622Z",
     "start_time": "2024-04-01T01:10:23.403405Z"
    }
   },
   "id": "4c581a34d8f7600c"
  },
  {
   "cell_type": "markdown",
   "source": [
    "<h3>Apply the Function and Cast the Data</h3>"
   ],
   "metadata": {
    "collapsed": false
   },
   "id": "1dee23d3237962db"
  },
  {
   "cell_type": "code",
   "execution_count": 15,
   "outputs": [
    {
     "data": {
      "text/plain": "board                                       string[python]\nnumber_of_contracts                                  int64\namount_billed_pilot_inl                            float64\namount_billed_debt_service                         float64\nassessment                                         float64\ntax_based_on_assessment_at_2021_tax_rate           float64\ndifference                                         float64\npercentage_total_pilot_billing                     float64\ndtype: object"
     },
     "execution_count": 15,
     "metadata": {},
     "output_type": "execute_result"
    }
   ],
   "source": [
    "# Apply our function to our data using a dictionary column names to desired data types\n",
    "names_to_types = {\"board\": \"string\", \n",
    "                  \"number_of_contracts\": \"int64\", \n",
    "                  \"amount_billed_pilot_inl\": \"float64\", \n",
    "                  \"amount_billed_debt_service\": \"float64\", \n",
    "                  \"assessment\": \"float64\",\n",
    "                  \"tax_based_on_assessment_at_2021_tax_rate\": \"float64\", \n",
    "                  \"difference\": \"float64\",\n",
    "                  \"percentage_total_pilot_billing\": \"float64\",\n",
    "                  }\n",
    "df = cast_data_types(df, names_to_types)\n",
    "\n",
    "# Check the new data types of the columns\n",
    "df.dtypes"
   ],
   "metadata": {
    "collapsed": false,
    "ExecuteTime": {
     "end_time": "2024-04-01T01:10:23.429726Z",
     "start_time": "2024-04-01T01:10:23.406877Z"
    }
   },
   "id": "f7210c78dd24f1dd"
  },
  {
   "cell_type": "markdown",
   "source": [
    "<h1>Section 6: Writing Out the Clean Data</h1>\n",
    "<p>Now that the data is clean, we want to write out a clean copy of the data to a new destination. We also may optionally want to convert the outfile to utf-8 format, as this format is the most versitile and can be read by the most sources."
   ],
   "metadata": {
    "collapsed": false
   },
   "id": "2b8a5eed41368025"
  },
  {
   "cell_type": "markdown",
   "source": [
    "<h3>Write Out the Data</h3>"
   ],
   "metadata": {
    "collapsed": false
   },
   "id": "564d531ec6fd42fc"
  },
  {
   "cell_type": "code",
   "execution_count": 16,
   "outputs": [],
   "source": [
    "# Save the now-clean csv\n",
    "outfile_path = \"../data/processed/s1_2019.csv\"\n",
    "df.to_csv(outfile_path, sep=\",\")"
   ],
   "metadata": {
    "collapsed": false,
    "ExecuteTime": {
     "end_time": "2024-04-01T01:10:23.429778Z",
     "start_time": "2024-04-01T01:10:23.409201Z"
    }
   },
   "id": "e2f378c3424fdf21"
  },
  {
   "cell_type": "markdown",
   "source": [
    "<h3>Define a Function to Convert a File to UTF-8 Format</h3>"
   ],
   "metadata": {
    "collapsed": false
   },
   "id": "72aacc5c262ac955"
  },
  {
   "cell_type": "code",
   "execution_count": 17,
   "outputs": [],
   "source": [
    "# convert a csv into utf8 format\n",
    "# Note that this function will replace any remaining non-utf-8-compatible special characters in the data with its nearest utf-8 equivalent.\n",
    "\n",
    "def convert_utf8(original_file_path: str, new_file_path: str):\n",
    "    df = pd.read_csv(original_file_path, converters=defaultdict(lambda i: str))\n",
    "    for column in df.columns:\n",
    "        df[column] = df[column].apply(lambda x: unidecode(str(x)))\n",
    "    df.to_csv(new_file_path, encoding='utf-8')"
   ],
   "metadata": {
    "collapsed": false,
    "ExecuteTime": {
     "end_time": "2024-04-01T01:10:23.429816Z",
     "start_time": "2024-04-01T01:10:23.412147Z"
    }
   },
   "id": "6c066fdb5631033d"
  },
  {
   "cell_type": "markdown",
   "source": [
    "<h3>Convert the Outfile to UTF8 Format</h3>"
   ],
   "metadata": {
    "collapsed": false
   },
   "id": "9c60b6cebe11ea5e"
  },
  {
   "cell_type": "code",
   "execution_count": 18,
   "outputs": [],
   "source": [
    "convert_utf8(original_file_path=outfile_path, new_file_path=outfile_path)"
   ],
   "metadata": {
    "collapsed": false,
    "ExecuteTime": {
     "end_time": "2024-04-01T01:10:23.429850Z",
     "start_time": "2024-04-01T01:10:23.414098Z"
    }
   },
   "id": "aadb09aecc8e9b9a"
  },
  {
   "cell_type": "markdown",
   "source": [
    "<h1>Section 7: Next Steps</h1>\n",
    "<p>Now that you have the basic tools to clean a dataset, you'll need some functions to manipulate that data easily for presenting summary statistics and charts. In a future notebook, I will present functions for gaining a quick snapshot of a dataset."
   ],
   "metadata": {
    "collapsed": false
   },
   "id": "1f0a57037c6f8695"
  },
  {
   "cell_type": "code",
   "execution_count": 18,
   "outputs": [],
   "source": [],
   "metadata": {
    "collapsed": false,
    "ExecuteTime": {
     "end_time": "2024-04-01T01:10:23.429881Z",
     "start_time": "2024-04-01T01:10:23.417149Z"
    }
   },
   "id": "36487f5d16310bae"
  }
 ],
 "metadata": {
  "kernelspec": {
   "display_name": "Python 3",
   "language": "python",
   "name": "python3"
  },
  "language_info": {
   "codemirror_mode": {
    "name": "ipython",
    "version": 2
   },
   "file_extension": ".py",
   "mimetype": "text/x-python",
   "name": "python",
   "nbconvert_exporter": "python",
   "pygments_lexer": "ipython2",
   "version": "2.7.6"
  }
 },
 "nbformat": 4,
 "nbformat_minor": 5
}
